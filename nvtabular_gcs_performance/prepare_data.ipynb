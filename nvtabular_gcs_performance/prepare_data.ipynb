{
 "cells": [
  {
   "cell_type": "markdown",
   "source": [
    "# Data preparation"
   ],
   "metadata": {}
  },
  {
   "cell_type": "code",
   "execution_count": 1,
   "source": [
    "import os\n",
    "import glob\n",
    "\n",
    "import numpy as np\n",
    "from dask.distributed import Client\n",
    "from dask_cuda import LocalCUDACluster\n",
    "\n",
    "import nvtabular as nvt\n",
    "from nvtabular.utils import device_mem_size, get_rmm_size\n",
    "\n",
    "from nvtabular.io.parquet import ParquetDatasetEngine\n",
    "\n",
    "print(nvt.__version__)"
   ],
   "outputs": [
    {
     "output_type": "stream",
     "name": "stdout",
     "text": [
      "0.6.1\n"
     ]
    }
   ],
   "metadata": {}
  },
  {
   "cell_type": "code",
   "execution_count": 2,
   "source": [
    "INPUT_PATH = '/home/jupyter/criteo/criteo_16_per_file'\n",
    "OUTPUT_PATH = '/home/jupyter/criteo/criteo_out'\n",
    "\n",
    "CUDA_VISIBLE_DEVICES = \"0,1,2,3\"\n",
    "FRAC_SIZE = 0.12\n",
    "PART_SIZE = 1900000000\n",
    "MEM_POOL_FRAC = 0.9\n",
    "DEVICE_LIMIT_FRAC = 0.8"
   ],
   "outputs": [],
   "metadata": {}
  },
  {
   "cell_type": "code",
   "execution_count": 3,
   "source": [
    "cluster = None  # Connect to existing cluster if desired\n",
    "if cluster is None:\n",
    "    cluster = LocalCUDACluster(\n",
    "        CUDA_VISIBLE_DEVICES=CUDA_VISIBLE_DEVICES,\n",
    "        rmm_pool_size=get_rmm_size(MEM_POOL_FRAC * device_mem_size()),\n",
    "        #device_memory = int(DEVICE_LIMIT_FRAC * device_mem_size(kind='total')),\n",
    "        local_directory=os.path.join('/tmp', \"dask-space\"),\n",
    "    )\n",
    "client = Client(cluster)"
   ],
   "outputs": [],
   "metadata": {}
  },
  {
   "cell_type": "code",
   "execution_count": 31,
   "source": [
    "dataset = nvt.Dataset(\n",
    "    #INPUT_PATH,\n",
    "    '/home/jupyter/criteo/criteo_2',\n",
    "    engine=\"parquet\",\n",
    "    #part_mem_fraction=0.124,\n",
    "    client=client,\n",
    ")"
   ],
   "outputs": [],
   "metadata": {}
  },
  {
   "cell_type": "code",
   "execution_count": 32,
   "source": [
    "print(dataset.num_rows)\n",
    "print(dataset.partition_lens)\n",
    "print(dataset.npartitions)"
   ],
   "outputs": [
    {
     "output_type": "stream",
     "name": "stdout",
     "text": [
      "395405518\n",
      "[11189798, 11213952, 10458815, 11354902, 10473752, 11232959, 10405390, 11207407, 10369068, 11177235, 11126889, 10272419, 11111079, 10241712, 11087178, 10230421, 11098650, 10266055, 1324302, 11186362, 11189364, 10446171, 11323558, 10528346, 11248042, 10436635, 11218825, 10387232, 11175054, 11141698, 10281536, 11108497, 10237284, 11094852, 10222212, 11090340, 10249703, 4997824]\n",
      "38\n"
     ]
    }
   ],
   "metadata": {}
  },
  {
   "cell_type": "code",
   "execution_count": 33,
   "source": [
    "partitions_per_file = 1\n",
    "\n",
    "part_size  = int(0.11 * device_mem_size()) + 1\n",
    "file_size = partitions_per_file * part_size\n",
    "\n",
    "print(part_size)\n",
    "print(file_size)"
   ],
   "outputs": [
    {
     "output_type": "stream",
     "name": "stdout",
     "text": [
      "1742809334\n",
      "1742809334\n"
     ]
    }
   ],
   "metadata": {}
  },
  {
   "cell_type": "code",
   "execution_count": 34,
   "source": [
    "new_dataset = ParquetDatasetEngine.regenerate_dataset(\n",
    "    dataset, \n",
    "    output_path = OUTPUT_PATH,\n",
    "    file_size = file_size,\n",
    "    part_size = part_size\n",
    "\n",
    ").compute()"
   ],
   "outputs": [
    {
     "output_type": "stream",
     "name": "stderr",
     "text": [
      "/opt/conda/lib/python3.7/site-packages/nvtabular/io/parquet.py:504: UserWarning: General-metadata information not detected! Please pass lists for `cats`, `conts`, and `labels` asarguments to `regenerate_dataset` to ensure a complete and correct _metadata.json file.\n",
      "  \"General-metadata information not detected! \"\n"
     ]
    }
   ],
   "metadata": {}
  },
  {
   "cell_type": "code",
   "execution_count": 36,
   "source": [
    "processed_dataset = nvt.Dataset(\n",
    "    #INPUT_PATH,\n",
    "    '/home/jupyter/criteo/criteo_out',\n",
    "    engine=\"parquet\",\n",
    "    part_mem_fraction=0.125,\n",
    "    client=client,\n",
    ")\n",
    "\n",
    "print(processed_dataset.num_rows)\n",
    "print(processed_dataset.partition_lens)\n",
    "print(processed_dataset.npartitions)"
   ],
   "outputs": [
    {
     "output_type": "stream",
     "name": "stdout",
     "text": [
      "395405518\n",
      "[7142661, 7142661, 7142661, 7142661, 7142661, 7142661, 7142661, 7142661, 7142661, 7142661, 7142661, 7142661, 7142661, 7142661, 7142661, 7142661, 7142661, 7142661, 7142661, 7142661, 7142661, 7142661, 7142661, 7142661, 7142661, 7142661, 7142661, 7142661, 7142661, 7142661, 7142661, 7142661, 7142661, 7142661, 7142661, 7142661, 7142661, 7142661, 7142661, 7142661, 7142661, 7142661, 7142661, 7142661, 7142661, 7142661, 7142661, 7142661, 7142661, 7142661, 7142661, 7142661, 7142661, 7142661, 7142661, 2559163]\n",
      "56\n"
     ]
    }
   ],
   "metadata": {}
  },
  {
   "cell_type": "code",
   "execution_count": null,
   "source": [],
   "outputs": [],
   "metadata": {}
  }
 ],
 "metadata": {
  "orig_nbformat": 4,
  "language_info": {
   "name": "python",
   "version": "3.7.10",
   "mimetype": "text/x-python",
   "codemirror_mode": {
    "name": "ipython",
    "version": 3
   },
   "pygments_lexer": "ipython3",
   "nbconvert_exporter": "python",
   "file_extension": ".py"
  },
  "kernelspec": {
   "name": "python3",
   "display_name": "Python 3.7.10 64-bit ('base': conda)"
  },
  "interpreter": {
   "hash": "98b0a9b7b4eaaa670588a142fd0a9b87eaafe866f1db4228be72b4211d12040f"
  }
 },
 "nbformat": 4,
 "nbformat_minor": 2
}