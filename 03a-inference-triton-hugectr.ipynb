{
 "cells": [
  {
   "cell_type": "markdown",
   "id": "f7086876-72ed-4ac8-aeba-f05dbc641798",
   "metadata": {},
   "source": [
    "# Using Vertex AI for online serving with NVIDIA Triton\n",
    "\n",
    "- Demonstrate serving of ensemble models - NVTabular preprocessing + HugeCTR recommender\n",
    "\n"
   ]
  },
  {
   "cell_type": "code",
   "execution_count": 1,
   "id": "f7701ef0-b9be-4b42-b2a9-2e96196297b2",
   "metadata": {},
   "outputs": [],
   "source": [
    "import base64\n",
    "import json\n",
    "import os\n",
    "import random\n",
    "import sys\n",
    "\n",
    "import google.auth\n",
    "from google.cloud import aiplatform\n",
    "from google.cloud.aiplatform import gapic as aip\n",
    "from google.cloud.aiplatform import hyperparameter_tuning as hpt\n",
    "from google.protobuf.json_format import MessageToDict"
   ]
  },
  {
   "cell_type": "markdown",
   "id": "e8d084e2-740d-4ba3-b783-73d1116da103",
   "metadata": {},
   "source": [
    "### Configure notebook settings"
   ]
  },
  {
   "cell_type": "code",
   "execution_count": 2,
   "id": "de09acc2-b57b-4799-ba47-2e1c4ba99aa4",
   "metadata": {},
   "outputs": [],
   "source": [
    "PROJECT_ID = 'jk-mlops-dev'\n",
    "REGION = \"us-central1\"\n",
    "BUCKET_NAME = \"gs://jk-merlin-dev\""
   ]
  },
  {
   "cell_type": "markdown",
   "id": "a5b4db25-32cd-4a64-a366-6950d11b7e1f",
   "metadata": {},
   "source": [
    "### Initialize Vertex AI SDK"
   ]
  },
  {
   "cell_type": "code",
   "execution_count": 3,
   "id": "53b6cce1-b15f-440e-a098-84094b416cdb",
   "metadata": {},
   "outputs": [],
   "source": [
    "aiplatform.init(project=PROJECT_ID, location=REGION, staging_bucket=BUCKET_NAME)"
   ]
  },
  {
   "cell_type": "markdown",
   "id": "43bcf6c8-84b6-413b-8796-fc8d6791edfc",
   "metadata": {},
   "source": [
    "### Build a custom prediction container"
   ]
  },
  {
   "cell_type": "code",
   "execution_count": 9,
   "id": "8b022fdb-a828-4dc6-a12a-b1d896ab1149",
   "metadata": {},
   "outputs": [],
   "source": [
    "IMAGE_NAME = 'triton-hugectr'\n",
    "IMAGE_URI = f\"gcr.io/{PROJECT_ID}/{IMAGE_NAME}\"\n",
    "DOCKERFILE = 'src/Dockerfile.triton'"
   ]
  },
  {
   "cell_type": "code",
   "execution_count": 10,
   "id": "2fc86828-e956-4d03-956d-7fe52da63121",
   "metadata": {},
   "outputs": [
    {
     "name": "stdout",
     "output_type": "stream",
     "text": [
      "Sending build context to Docker daemon    448kB\n",
      "Step 1/9 : FROM gcr.io/merlin-on-gcp/dongm-merlin-inference-hugectr:v0.6.1\n",
      " ---> fb6f7db2d7fd\n",
      "Step 2/9 : EXPOSE 8000\n",
      " ---> Using cache\n",
      " ---> 748ffab38b92\n",
      "Step 3/9 : EXPOSE 8001\n",
      " ---> Using cache\n",
      " ---> b2636665a789\n",
      "Step 4/9 : EXPOSE 8002\n",
      " ---> Using cache\n",
      " ---> ab2a74e7be2d\n",
      "Step 5/9 : RUN echo \"deb [signed-by=/usr/share/keyrings/cloud.google.gpg] http://packages.cloud.google.com/apt cloud-sdk main\" | tee -a /etc/apt/sources.list.d/google-cloud-sdk.list && curl https://packages.cloud.google.com/apt/doc/apt-key.gpg | apt-key --keyring /usr/share/keyrings/cloud.google.gpg  add - && apt-get update -y && apt-get install google-cloud-sdk -y\n",
      " ---> Running in 7f8ad347f4d2\n",
      "deb [signed-by=/usr/share/keyrings/cloud.google.gpg] http://packages.cloud.google.com/apt cloud-sdk main\n",
      "\u001b[91m  % Total    % Received % Xferd  Average Speed   Time    Time     Time  Current\n",
      "                                 Dload  Upload   Total   Spent    Left  Speed\n",
      "  0     0    0     0    0     0      0      0 --:--:-- --:--:\u001b[0m\u001b[91m-- --:--:--     0\u001b[0m\u001b[91mWarning: apt-key output should not be parsed (stdout is not a terminal)\n",
      "100  2537  100  2537    0     0  34283      0 --:--:-- --:--:-- --:--:-- 34283\n",
      "\u001b[0mOK\n",
      "Get:1 http://security.ubuntu.com/ubuntu focal-security InRelease [114 kB]\n",
      "Get:2 http://packages.cloud.google.com/apt cloud-sdk InRelease [6739 B]\n",
      "Ign:3 https://developer.download.nvidia.com/compute/cuda/repos/ubuntu2004/x86_64  InRelease\n",
      "Get:4 https://developer.download.nvidia.com/compute/cuda/repos/ubuntu2004/x86_64  Release [696 B]\n",
      "Get:5 https://developer.download.nvidia.com/compute/cuda/repos/ubuntu2004/x86_64  Release.gpg [836 B]\n",
      "Get:6 http://ppa.launchpad.net/deadsnakes/ppa/ubuntu focal InRelease [18.1 kB]\n",
      "Hit:7 https://apt.kitware.com/ubuntu focal InRelease\n",
      "Get:8 http://packages.cloud.google.com/apt cloud-sdk/main amd64 Packages [193 kB]\n",
      "Hit:9 http://archive.ubuntu.com/ubuntu focal InRelease\n",
      "Get:10 http://archive.ubuntu.com/ubuntu focal-updates InRelease [114 kB]\n",
      "Get:11 https://developer.download.nvidia.com/compute/cuda/repos/ubuntu2004/x86_64  Packages [450 kB]\n",
      "Get:12 http://security.ubuntu.com/ubuntu focal-security/main amd64 Packages [1179 kB]\n",
      "Get:13 http://security.ubuntu.com/ubuntu focal-security/universe amd64 Packages [801 kB]\n",
      "Get:14 http://archive.ubuntu.com/ubuntu focal-backports InRelease [101 kB]\n",
      "Get:15 http://security.ubuntu.com/ubuntu focal-security/restricted amd64 Packages [626 kB]\n",
      "Get:16 http://ppa.launchpad.net/deadsnakes/ppa/ubuntu focal/main amd64 Packages [26.3 kB]\n",
      "Get:17 http://archive.ubuntu.com/ubuntu focal-updates/main amd64 Packages [1630 kB]\n",
      "Get:18 http://archive.ubuntu.com/ubuntu focal-updates/restricted amd64 Packages [679 kB]\n",
      "Get:19 http://archive.ubuntu.com/ubuntu focal-updates/universe amd64 Packages [1085 kB]\n",
      "Fetched 7025 kB in 2s (3470 kB/s)\n",
      "Reading package lists...\n",
      "Reading package lists...\n",
      "Building dependency tree...\n",
      "Reading state information...\n",
      "The following additional packages will be installed:\n",
      "  python3-crcmod\n",
      "Suggested packages:\n",
      "  google-cloud-sdk-app-engine-java google-cloud-sdk-app-engine-python\n",
      "  google-cloud-sdk-pubsub-emulator google-cloud-sdk-bigtable-emulator\n",
      "  google-cloud-sdk-datastore-emulator kubectl\n",
      "The following NEW packages will be installed:\n",
      "  google-cloud-sdk python3-crcmod\n",
      "0 upgraded, 2 newly installed, 0 to remove and 33 not upgraded.\n",
      "Need to get 76.0 MB of archives.\n",
      "After this operation, 480 MB of additional disk space will be used.\n",
      "Get:1 http://packages.cloud.google.com/apt cloud-sdk/main amd64 google-cloud-sdk all 361.0.0-0 [76.0 MB]\n",
      "Get:2 http://archive.ubuntu.com/ubuntu focal/universe amd64 python3-crcmod amd64 1.7+dfsg-2build2 [18.8 kB]\n",
      "Fetched 76.0 MB in 1s (109 MB/s)\n",
      "Selecting previously unselected package python3-crcmod.\n",
      "(Reading database ... 47550 files and directories currently installed.)\n",
      "Preparing to unpack .../python3-crcmod_1.7+dfsg-2build2_amd64.deb ...\n",
      "Unpacking python3-crcmod (1.7+dfsg-2build2) ...\n",
      "Selecting previously unselected package google-cloud-sdk.\n",
      "Preparing to unpack .../google-cloud-sdk_361.0.0-0_all.deb ...\n",
      "Unpacking google-cloud-sdk (361.0.0-0) ...\n",
      "Setting up python3-crcmod (1.7+dfsg-2build2) ...\n",
      "Setting up google-cloud-sdk (361.0.0-0) ...\n",
      "Removing intermediate container 7f8ad347f4d2\n",
      " ---> 4b770b6a7b89\n",
      "Step 6/9 : WORKDIR /src\n",
      " ---> Running in d8d3d12e6d7a\n",
      "Removing intermediate container d8d3d12e6d7a\n",
      " ---> c3aaa32883d4\n",
      "Step 7/9 : COPY inference/entrypoint.sh ./\n",
      " ---> 625cb64e0942\n",
      "Step 8/9 : RUN chmod +x entrypoint.sh\n",
      " ---> Running in a3b5c9566bcf\n",
      "Removing intermediate container a3b5c9566bcf\n",
      " ---> 9ed622bd15c6\n",
      "Step 9/9 : ENTRYPOINT [\"./entrypoint.sh\"]\n",
      " ---> Running in 2b929cda3a00\n",
      "Removing intermediate container 2b929cda3a00\n",
      " ---> 14168e2bf98a\n",
      "Successfully built 14168e2bf98a\n",
      "Successfully tagged gcr.io/jk-mlops-dev/triton-hugectr:latest\n",
      "Using default tag: latest\n",
      "The push refers to repository [gcr.io/jk-mlops-dev/triton-hugectr]\n",
      "\n",
      "\u001b[1B48cf5be5: Preparing \n",
      "\u001b[1B06ca2841: Preparing \n",
      "\u001b[1B46a04598: Preparing \n",
      "\u001b[1Be58e8598: Preparing \n",
      "\u001b[1Bc9824aed: Preparing \n",
      "\u001b[1B23fe2ec9: Preparing \n",
      "\u001b[1Beb0eea4e: Preparing \n",
      "\u001b[1B08de1536: Preparing \n",
      "\u001b[1Bd698577a: Preparing \n",
      "\u001b[1B21cc7b5f: Preparing \n",
      "\u001b[1B646f53eb: Preparing \n",
      "\u001b[1Bf0fe3ed8: Preparing \n",
      "\u001b[1B7d455483: Preparing \n",
      "\u001b[1B026e0fab: Preparing \n",
      "\u001b[1B9b492bd7: Preparing \n",
      "\u001b[1B2784440c: Preparing \n",
      "\u001b[1B2f6421c3: Preparing \n",
      "\u001b[1B8a55152d: Preparing \n",
      "\u001b[1B589ca15a: Preparing \n",
      "\u001b[1B0a50ea64: Preparing \n",
      "\u001b[1B64c9831d: Preparing \n",
      "\u001b[1B42df9148: Preparing \n",
      "\u001b[1B4e7260d1: Preparing \n",
      "\u001b[1B01b2e862: Preparing \n",
      "\u001b[1Bda137864: Preparing \n",
      "\u001b[1B5d96cc97: Preparing \n",
      "\u001b[1B41d8a723: Preparing \n",
      "\u001b[1B8118241f: Preparing \n",
      "\u001b[1B75c0649e: Preparing \n",
      "\u001b[1B357bd24c: Preparing \n",
      "\u001b[1Bb05908c8: Preparing \n",
      "\u001b[1B4217793b: Preparing \n",
      "\u001b[1Bd25bd59b: Preparing \n",
      "\u001b[1B7c006461: Preparing \n",
      "\u001b[1Bd42ad1cc: Preparing \n",
      "\u001b[1B8046cdd7: Preparing \n",
      "\u001b[1B08382770: Preparing \n",
      "\u001b[1B08abd40a: Preparing \n",
      "\u001b[26B26e0fab: Waiting g \n",
      "\u001b[35B3fe2ec9: Waiting g \n",
      "\u001b[1B6c27cf6e: Preparing \n",
      "\u001b[28Bb492bd7: Waiting g \n",
      "\u001b[37Bb0eea4e: Waiting g \n",
      "\u001b[1B35c73479: Preparing \n",
      "\u001b[38B8de1536: Waiting g \n",
      "\u001b[1B6a18e033: Preparing \n",
      "\u001b[31Bf6421c3: Waiting g \n",
      "\u001b[29Ba50ea64: Waiting g \n",
      "\u001b[37Bd455483: Waiting g \n",
      "\u001b[30B4c9831d: Waiting g \n",
      "\u001b[33B89ca15a: Waiting g \n",
      "\u001b[1B4d6d50a7: Preparing \n",
      "\u001b[25B5c0649e: Waiting g \n",
      "\u001b[20B42ad1cc: Waiting g \n",
      "\u001b[33Be7260d1: Waiting g \n",
      "\u001b[24B25bd59b: Waiting g \n",
      "\u001b[11B0b86b83: Waiting g \n",
      "\u001b[35B1b2e862: Waiting g \n",
      "\u001b[12B28c2607: Waiting g \n",
      "\u001b[12B1f4e2bf: Waiting g \n",
      "\u001b[37Ba137864: Waiting g \n",
      "\u001b[36B1d8a723: Waiting g \n",
      "\u001b[14B3489c5c: Waiting g \n",
      "\u001b[3B7c57c2d4: Waiting g \n",
      "\u001b[10B9ef49ca: Waiting g \n",
      "\u001b[1Ba85aee62: Waiting g \n",
      "\u001b[1Bfa616420: Preparing \n",
      "\u001b[1B762bfd28: Preparing \n",
      "\u001b[15B0a9947e: Waiting g \n",
      "\u001b[1B2fa93862: Preparing \n",
      "\u001b[1B65fd7ee4: Preparing \n",
      "\u001b[1B96ef8c35: Preparing \n",
      "\u001b[1B7a6c588e: Preparing \n",
      "\u001b[1B2cd6b836: Preparing \n",
      "\u001b[1B1da8e28f: Preparing \n",
      "\u001b[5B96ef8c35: Waiting g \n",
      "\u001b[2Be435138d: Waiting g \n",
      "\u001b[76B6a04598: Pushed   611.7MB/586.2MB\u001b[75A\u001b[2K\u001b[72A\u001b[2K\u001b[76A\u001b[2K\u001b[69A\u001b[2K\u001b[68A\u001b[2K\u001b[66A\u001b[2K\u001b[64A\u001b[2K\u001b[62A\u001b[2K\u001b[59A\u001b[2K\u001b[60A\u001b[2K\u001b[58A\u001b[2K\u001b[56A\u001b[2K\u001b[55A\u001b[2K\u001b[53A\u001b[2K\u001b[51A\u001b[2K\u001b[49A\u001b[2K\u001b[47A\u001b[2K\u001b[45A\u001b[2K\u001b[78A\u001b[2K\u001b[42A\u001b[2K\u001b[39A\u001b[2K\u001b[35A\u001b[2K\u001b[34A\u001b[2K\u001b[76A\u001b[2K\u001b[31A\u001b[2K\u001b[28A\u001b[2K\u001b[24A\u001b[2K\u001b[20A\u001b[2K\u001b[16A\u001b[2K\u001b[10A\u001b[2K\u001b[6A\u001b[2K\u001b[3A\u001b[2K\u001b[76A\u001b[2K\u001b[76A\u001b[2K\u001b[76A\u001b[2K\u001b[76A\u001b[2K\u001b[76A\u001b[2K\u001b[76A\u001b[2K\u001b[76A\u001b[2K\u001b[76A\u001b[2K\u001b[76A\u001b[2K\u001b[76A\u001b[2K\u001b[76A\u001b[2K\u001b[76A\u001b[2K\u001b[76A\u001b[2K\u001b[76A\u001b[2K\u001b[76A\u001b[2K\u001b[76A\u001b[2K\u001b[76A\u001b[2K\u001b[76A\u001b[2K\u001b[76A\u001b[2K\u001b[76A\u001b[2K\u001b[76A\u001b[2K\u001b[76A\u001b[2K\u001b[76A\u001b[2K\u001b[76A\u001b[2K\u001b[76A\u001b[2K\u001b[76A\u001b[2K\u001b[76A\u001b[2K\u001b[76A\u001b[2K\u001b[76A\u001b[2K\u001b[76A\u001b[2K\u001b[76A\u001b[2K\u001b[76A\u001b[2K\u001b[76A\u001b[2K\u001b[76A\u001b[2K\u001b[76A\u001b[2K\u001b[76A\u001b[2K\u001b[76A\u001b[2K\u001b[76A\u001b[2K\u001b[76A\u001b[2K\u001b[76A\u001b[2K\u001b[76A\u001b[2K\u001b[76A\u001b[2K\u001b[76A\u001b[2K\u001b[76A\u001b[2K\u001b[76A\u001b[2K\u001b[76A\u001b[2K\u001b[76A\u001b[2K\u001b[76A\u001b[2K\u001b[76A\u001b[2K\u001b[76A\u001b[2K\u001b[76A\u001b[2K\u001b[76A\u001b[2K\u001b[76A\u001b[2K\u001b[76A\u001b[2K\u001b[76A\u001b[2K\u001b[76A\u001b[2K\u001b[76A\u001b[2K\u001b[76A\u001b[2K\u001b[76A\u001b[2K\u001b[76A\u001b[2K\u001b[76A\u001b[2K\u001b[76A\u001b[2K\u001b[76A\u001b[2K\u001b[76A\u001b[2K\u001b[76A\u001b[2K\u001b[76A\u001b[2K\u001b[76A\u001b[2K\u001b[76A\u001b[2K\u001b[76A\u001b[2K\u001b[76A\u001b[2K\u001b[76A\u001b[2K\u001b[76A\u001b[2K\u001b[76A\u001b[2K\u001b[76A\u001b[2K\u001b[76A\u001b[2K\u001b[76A\u001b[2K\u001b[76A\u001b[2K\u001b[76A\u001b[2K\u001b[76A\u001b[2K\u001b[76A\u001b[2K\u001b[76A\u001b[2K\u001b[76A\u001b[2K\u001b[76A\u001b[2K\u001b[76A\u001b[2K\u001b[76A\u001b[2K\u001b[76A\u001b[2K\u001b[76A\u001b[2K\u001b[76A\u001b[2K\u001b[76A\u001b[2K\u001b[76A\u001b[2K\u001b[76A\u001b[2K\u001b[76A\u001b[2K\u001b[76A\u001b[2K\u001b[76A\u001b[2K\u001b[76A\u001b[2K\u001b[76A\u001b[2K\u001b[76A\u001b[2K\u001b[76A\u001b[2K\u001b[76A\u001b[2K\u001b[76A\u001b[2K\u001b[76A\u001b[2K\u001b[76A\u001b[2K\u001b[76A\u001b[2K\u001b[76A\u001b[2K\u001b[76A\u001b[2K\u001b[76A\u001b[2K\u001b[76A\u001b[2K\u001b[76A\u001b[2K\u001b[76A\u001b[2K\u001b[76A\u001b[2K\u001b[76A\u001b[2K\u001b[76A\u001b[2K\u001b[76A\u001b[2K\u001b[76A\u001b[2K\u001b[76A\u001b[2K\u001b[76A\u001b[2K\u001b[76A\u001b[2K\u001b[76A\u001b[2K\u001b[76A\u001b[2K\u001b[76A\u001b[2K\u001b[76A\u001b[2K\u001b[76A\u001b[2K\u001b[76A\u001b[2K\u001b[76A\u001b[2K\u001b[76A\u001b[2K\u001b[76A\u001b[2K\u001b[76A\u001b[2K\u001b[76A\u001b[2K\u001b[76A\u001b[2K\u001b[76A\u001b[2K\u001b[76A\u001b[2K\u001b[76A\u001b[2K\u001b[76A\u001b[2K\u001b[76A\u001b[2K\u001b[76A\u001b[2K\u001b[76A\u001b[2K\u001b[76A\u001b[2K\u001b[76A\u001b[2K\u001b[76A\u001b[2K\u001b[76A\u001b[2K\u001b[76A\u001b[2K\u001b[76A\u001b[2K\u001b[76A\u001b[2K\u001b[76A\u001b[2K\u001b[76A\u001b[2K\u001b[76A\u001b[2K\u001b[76A\u001b[2K\u001b[76A\u001b[2K\u001b[76A\u001b[2K\u001b[76A\u001b[2K\u001b[76A\u001b[2K\u001b[76A\u001b[2K\u001b[76A\u001b[2K\u001b[76A\u001b[2K\u001b[76A\u001b[2K\u001b[76A\u001b[2K\u001b[76A\u001b[2K\u001b[76A\u001b[2K\u001b[76A\u001b[2K\u001b[76A\u001b[2K\u001b[76A\u001b[2K\u001b[76A\u001b[2K\u001b[76A\u001b[2K\u001b[76A\u001b[2K\u001b[76A\u001b[2K\u001b[76A\u001b[2K\u001b[76A\u001b[2K\u001b[76A\u001b[2K\u001b[76A\u001b[2K\u001b[76A\u001b[2K\u001b[76A\u001b[2K\u001b[76A\u001b[2K\u001b[76A\u001b[2K\u001b[76A\u001b[2K\u001b[76A\u001b[2K\u001b[76A\u001b[2K\u001b[76A\u001b[2K\u001b[76A\u001b[2K\u001b[76A\u001b[2K\u001b[76A\u001b[2K\u001b[76A\u001b[2K\u001b[76A\u001b[2K\u001b[76A\u001b[2K\u001b[76A\u001b[2K\u001b[76A\u001b[2K\u001b[76A\u001b[2K\u001b[76A\u001b[2K\u001b[76A\u001b[2K\u001b[76A\u001b[2K\u001b[76A\u001b[2K\u001b[76A\u001b[2K\u001b[76A\u001b[2K\u001b[76A\u001b[2K\u001b[76A\u001b[2K\u001b[76A\u001b[2K\u001b[76A\u001b[2K\u001b[76A\u001b[2K\u001b[76A\u001b[2K\u001b[76A\u001b[2K\u001b[76A\u001b[2K\u001b[76A\u001b[2K\u001b[76A\u001b[2K\u001b[76A\u001b[2K\u001b[76A\u001b[2K\u001b[76A\u001b[2K\u001b[76A\u001b[2K\u001b[76A\u001b[2K\u001b[76A\u001b[2Klatest: digest: sha256:485e33acb3be6f9f0791256431a3e4354f5922125c9ca6f71ec29fc43c7aac29 size: 16916\n"
     ]
    }
   ],
   "source": [
    "!docker build -t {IMAGE_URI} -f {DOCKERFILE} src\n",
    "!docker push {IMAGE_URI}"
   ]
  },
  {
   "cell_type": "markdown",
   "id": "b582c27f-a3c0-4def-ac26-41d4007198bb",
   "metadata": {},
   "source": [
    "### Register the model resource"
   ]
  },
  {
   "cell_type": "code",
   "execution_count": 13,
   "id": "f5f549c1-7466-43ae-8193-a395e313b013",
   "metadata": {},
   "outputs": [],
   "source": [
    "VERSION = 10\n",
    "model_display_name = f\"{IMAGE_NAME}-deepfm-v{VERSION}\"\n",
    "model_description = \"Serving with Triton inference server using a custom container\"\n",
    "\n",
    "health_route = \"/v2/health/ready\"\n",
    "predict_route = f\"/v2/models/deepfm_ens/infer\"\n",
    "serving_container_ports = [8000]\n",
    "model_ensemble_location = 'gs://jk-criteo-bucket/models'"
   ]
  },
  {
   "cell_type": "code",
   "execution_count": 14,
   "id": "405d9fee-ab8e-4f96-b8f4-a66a47bea81c",
   "metadata": {},
   "outputs": [
    {
     "name": "stdout",
     "output_type": "stream",
     "text": [
      "INFO:google.cloud.aiplatform.models:Creating Model\n",
      "INFO:google.cloud.aiplatform.models:Create Model backing LRO: projects/895222332033/locations/us-central1/models/1570071818138550272/operations/70631115139842048\n",
      "INFO:google.cloud.aiplatform.models:Model created. Resource name: projects/895222332033/locations/us-central1/models/1570071818138550272\n",
      "INFO:google.cloud.aiplatform.models:To use this Model in another session:\n",
      "INFO:google.cloud.aiplatform.models:model = aiplatform.Model('projects/895222332033/locations/us-central1/models/1570071818138550272')\n",
      "triton-hugectr-deepfm-v10\n",
      "projects/895222332033/locations/us-central1/models/1570071818138550272\n"
     ]
    }
   ],
   "source": [
    "model = aiplatform.Model.upload(\n",
    "    display_name=model_display_name,\n",
    "    description=model_description,\n",
    "    serving_container_image_uri=IMAGE_URI,\n",
    "    serving_container_predict_route=predict_route,\n",
    "    serving_container_health_route=health_route,\n",
    "    serving_container_ports=serving_container_ports,\n",
    "    artifact_uri=model_ensemble_location\n",
    ")\n",
    "\n",
    "model.wait()\n",
    "\n",
    "print(model.display_name)\n",
    "print(model.resource_name)"
   ]
  },
  {
   "cell_type": "markdown",
   "id": "0e652696-c49b-48d7-84ce-18d0e9d95fc6",
   "metadata": {},
   "source": [
    "### Create an endpoint\n"
   ]
  },
  {
   "cell_type": "code",
   "execution_count": 15,
   "id": "a7e226a5-2f92-43c4-bc16-dd3bf1c3774f",
   "metadata": {},
   "outputs": [
    {
     "name": "stdout",
     "output_type": "stream",
     "text": [
      "INFO:google.cloud.aiplatform.models:Creating Endpoint\n",
      "INFO:google.cloud.aiplatform.models:Create Endpoint backing LRO: projects/895222332033/locations/us-central1/endpoints/3705908339465519104/operations/4260104668501245952\n",
      "INFO:google.cloud.aiplatform.models:Endpoint created. Resource name: projects/895222332033/locations/us-central1/endpoints/3705908339465519104\n",
      "INFO:google.cloud.aiplatform.models:To use this Endpoint in another session:\n",
      "INFO:google.cloud.aiplatform.models:endpoint = aiplatform.Endpoint('projects/895222332033/locations/us-central1/endpoints/3705908339465519104')\n"
     ]
    }
   ],
   "source": [
    "endpoint_display_name = f\"{IMAGE_NAME}-endpoint-{VERSION}\"\n",
    "endpoint = aiplatform.Endpoint.create(display_name=endpoint_display_name)"
   ]
  },
  {
   "cell_type": "markdown",
   "id": "471c264b-0d9d-4ed1-9f36-3fddb67fa9f4",
   "metadata": {},
   "source": [
    "### Deploy a model"
   ]
  },
  {
   "cell_type": "code",
   "execution_count": 16,
   "id": "b0906bfe-7e74-44f0-88d5-0ff6dbb8bb87",
   "metadata": {},
   "outputs": [],
   "source": [
    "traffic_percentage = 100\n",
    "machine_type = \"n1-standard-16\"\n",
    "accelerator_type=\"NVIDIA_TESLA_T4\"\n",
    "accelerator_count = 1\n",
    "\n",
    "deployed_model_display_name = model_display_name\n",
    "min_replica_count = 1\n",
    "max_replica_count = 1\n",
    "sync = True"
   ]
  },
  {
   "cell_type": "code",
   "execution_count": null,
   "id": "aa8fd54d-7478-424a-891f-01c732f6ec51",
   "metadata": {},
   "outputs": [
    {
     "name": "stdout",
     "output_type": "stream",
     "text": [
      "INFO:google.cloud.aiplatform.models:Deploying model to Endpoint : projects/895222332033/locations/us-central1/endpoints/3705908339465519104\n",
      "INFO:google.cloud.aiplatform.models:Deploy Endpoint model backing LRO: projects/895222332033/locations/us-central1/endpoints/3705908339465519104/operations/4683443033474072576\n"
     ]
    }
   ],
   "source": [
    "model.deploy(\n",
    "    endpoint=endpoint,\n",
    "    deployed_model_display_name=deployed_model_display_name,\n",
    "    machine_type=machine_type,\n",
    "    min_replica_count=min_replica_count,\n",
    "    max_replica_count=max_replica_count,\n",
    "    traffic_percentage=traffic_percentage,\n",
    "    accelerator_type=accelerator_type,\n",
    "    accelerator_count=accelerator_count,\n",
    "    sync=sync,\n",
    ")"
   ]
  },
  {
   "cell_type": "markdown",
   "id": "64f2a392-ca07-47da-9944-fdc45163ec4a",
   "metadata": {},
   "source": [
    "### Test the deployed model"
   ]
  },
  {
   "cell_type": "code",
   "execution_count": null,
   "id": "1765111a-6018-4554-bdc9-603def6bc10d",
   "metadata": {},
   "outputs": [],
   "source": [
    "!curl -X POST \\\n",
    "  -H \"Authorization: Bearer $(gcloud auth print-access-token)\" \\\n",
    "  -H \"Content-Type: application/json\"  \\\n",
    "  https://us-central1-aiplatform.googleapis.com/v1/projects/jk-mlops-dev/locations/europe-west2/endpoints/3705908339465519104:rawPredict \\\n",
    "  -d @criteo.json"
   ]
  }
 ],
 "metadata": {
  "environment": {
   "name": "common-cu110.m80",
   "type": "gcloud",
   "uri": "gcr.io/deeplearning-platform-release/base-cu110:m80"
  },
  "kernelspec": {
   "display_name": "Python [conda env:root] *",
   "language": "python",
   "name": "conda-root-py"
  },
  "language_info": {
   "codemirror_mode": {
    "name": "ipython",
    "version": 3
   },
   "file_extension": ".py",
   "mimetype": "text/x-python",
   "name": "python",
   "nbconvert_exporter": "python",
   "pygments_lexer": "ipython3",
   "version": "3.7.10"
  }
 },
 "nbformat": 4,
 "nbformat_minor": 5
}
