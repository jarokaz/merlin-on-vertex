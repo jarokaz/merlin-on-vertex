{
 "cells": [
  {
   "cell_type": "markdown",
   "id": "f7086876-72ed-4ac8-aeba-f05dbc641798",
   "metadata": {},
   "source": [
    "# Using Vertex AI for online serving with NVIDIA Triton\n",
    "\n",
    "- Demonstrate serving of ensemble models - NVTabular preprocessing + HugeCTR recommender\n",
    "\n"
   ]
  },
  {
   "cell_type": "code",
   "execution_count": 6,
   "id": "f63222ac-fc5a-49cd-a9d2-176d00c7d24c",
   "metadata": {},
   "outputs": [
    {
     "name": "stdout",
     "output_type": "stream",
     "text": [
      "0.6.1\n"
     ]
    }
   ],
   "source": [
    "import nvtabular as nvt\n",
    "\n",
    "print(nvtabular.__version__)"
   ]
  },
  {
   "cell_type": "markdown",
   "id": "d33aea9e-6a5b-4e5d-a063-cf61bf24ea76",
   "metadata": {},
   "source": [
    "### Export ensemble"
   ]
  },
  {
   "cell_type": "code",
   "execution_count": 10,
   "id": "c29fb16b-6802-4dfe-a0ac-14f98005afc1",
   "metadata": {},
   "outputs": [],
   "source": [
    "WORKFLOW_PATH = '/home/jupyter/data/criteo_processed_parquet_0.6_t1/workflow'\n",
    "MODEL_GRAPH_PATH = '/home/jupyter/data/model_t1/graph/deepfm.json'\n",
    "MODEL_PARAMS_PATH = '/home/jupyter/data/model_t1/parameters/'\n",
    "OUTPUT_PATH = '/home/jupyter/data/model_ensemble_t1/'\n",
    "NUM_SLOTS = 26\n",
    "MAX_NNZ = 2\n",
    "EMBEDDING_VECTOR_SIZE = 11\n",
    "NUM_OUTPUTS = 1\n",
    "ENSEMBLE_NAME = 'deepfm'"
   ]
  },
  {
   "cell_type": "code",
   "execution_count": 11,
   "id": "b4a8922f-08be-453e-90a8-dd1d7d45c429",
   "metadata": {},
   "outputs": [],
   "source": [
    "CATEGORICAL_COLUMNS=[\"C\" + str(x) for x in range(1, 27)]\n",
    "CONTINUOUS_COLUMNS=[\"I\" + str(x) for x in range(1, 14)]\n",
    "LABEL_COLUMNS = ['label']\n",
    "MAX_BATCH_SIZE = 64"
   ]
  },
  {
   "cell_type": "code",
   "execution_count": 12,
   "id": "50806ee7-0f2f-478d-a52a-68931a8136ec",
   "metadata": {},
   "outputs": [
    {
     "name": "stderr",
     "output_type": "stream",
     "text": [
      "/opt/conda/lib/python3.7/site-packages/nvtabular/workflow.py:262: UserWarning: Loading workflow generated with python version 3.8.10 (default, Jun  2 2021, 10:49:15) \n",
      "[GCC 9.4.0] - but we are running python 3.7.10 | packaged by conda-forge | (default, Sep 13 2021, 19:43:44) \n",
      "[GCC 9.4.0]. This might cause issues\n",
      "  f\"Loading workflow generated with {name} version {stored} \"\n",
      "/opt/conda/lib/python3.7/site-packages/nvtabular/workflow.py:277: UserWarning: Loading workflow generated on GPU\n",
      "  warnings.warn(f\"Loading workflow generated on {expected}\")\n"
     ]
    },
    {
     "ename": "ValueError",
     "evalue": "unsupported pickle protocol: 5",
     "output_type": "error",
     "traceback": [
      "\u001b[0;31m---------------------------------------------------------------------------\u001b[0m",
      "\u001b[0;31mValueError\u001b[0m                                Traceback (most recent call last)",
      "\u001b[0;32m/tmp/ipykernel_27913/577921648.py\u001b[0m in \u001b[0;36m<module>\u001b[0;34m\u001b[0m\n\u001b[0;32m----> 1\u001b[0;31m \u001b[0mworkflow\u001b[0m \u001b[0;34m=\u001b[0m \u001b[0mnvt\u001b[0m\u001b[0;34m.\u001b[0m\u001b[0mWorkflow\u001b[0m\u001b[0;34m.\u001b[0m\u001b[0mload\u001b[0m\u001b[0;34m(\u001b[0m\u001b[0mWORKFLOW_PATH\u001b[0m\u001b[0;34m)\u001b[0m\u001b[0;34m\u001b[0m\u001b[0;34m\u001b[0m\u001b[0m\n\u001b[0m",
      "\u001b[0;32m/opt/conda/lib/python3.7/site-packages/nvtabular/workflow.py\u001b[0m in \u001b[0;36mload\u001b[0;34m(cls, path, client)\u001b[0m\n\u001b[1;32m    278\u001b[0m \u001b[0;34m\u001b[0m\u001b[0m\n\u001b[1;32m    279\u001b[0m         \u001b[0;31m# load up the workflow object di\u001b[0m\u001b[0;34m\u001b[0m\u001b[0;34m\u001b[0m\u001b[0;34m\u001b[0m\u001b[0m\n\u001b[0;32m--> 280\u001b[0;31m         \u001b[0mworkflow\u001b[0m \u001b[0;34m=\u001b[0m \u001b[0mcloudpickle\u001b[0m\u001b[0;34m.\u001b[0m\u001b[0mload\u001b[0m\u001b[0;34m(\u001b[0m\u001b[0mopen\u001b[0m\u001b[0;34m(\u001b[0m\u001b[0mos\u001b[0m\u001b[0;34m.\u001b[0m\u001b[0mpath\u001b[0m\u001b[0;34m.\u001b[0m\u001b[0mjoin\u001b[0m\u001b[0;34m(\u001b[0m\u001b[0mpath\u001b[0m\u001b[0;34m,\u001b[0m \u001b[0;34m\"workflow.pkl\"\u001b[0m\u001b[0;34m)\u001b[0m\u001b[0;34m,\u001b[0m \u001b[0;34m\"rb\"\u001b[0m\u001b[0;34m)\u001b[0m\u001b[0;34m)\u001b[0m\u001b[0;34m\u001b[0m\u001b[0;34m\u001b[0m\u001b[0m\n\u001b[0m\u001b[1;32m    281\u001b[0m         \u001b[0mworkflow\u001b[0m\u001b[0;34m.\u001b[0m\u001b[0mclient\u001b[0m \u001b[0;34m=\u001b[0m \u001b[0mclient\u001b[0m\u001b[0;34m\u001b[0m\u001b[0;34m\u001b[0m\u001b[0m\n\u001b[1;32m    282\u001b[0m \u001b[0;34m\u001b[0m\u001b[0m\n",
      "\u001b[0;31mValueError\u001b[0m: unsupported pickle protocol: 5"
     ]
    }
   ],
   "source": [
    "workflow = nvt.Workflow.load(WORKFLOW_PATH)"
   ]
  },
  {
   "cell_type": "code",
   "execution_count": null,
   "id": "f7701ef0-b9be-4b42-b2a9-2e96196297b2",
   "metadata": {},
   "outputs": [],
   "source": []
  }
 ],
 "metadata": {
  "environment": {
   "name": "common-cu110.m80",
   "type": "gcloud",
   "uri": "gcr.io/deeplearning-platform-release/base-cu110:m80"
  },
  "kernelspec": {
   "display_name": "Python [conda env:root] *",
   "language": "python",
   "name": "conda-root-py"
  },
  "language_info": {
   "codemirror_mode": {
    "name": "ipython",
    "version": 3
   },
   "file_extension": ".py",
   "mimetype": "text/x-python",
   "name": "python",
   "nbconvert_exporter": "python",
   "pygments_lexer": "ipython3",
   "version": "3.7.10"
  }
 },
 "nbformat": 4,
 "nbformat_minor": 5
}
