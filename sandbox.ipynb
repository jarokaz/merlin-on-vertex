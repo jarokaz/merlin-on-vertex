{
 "cells": [
  {
   "cell_type": "code",
   "execution_count": 1,
   "id": "7a360383",
   "metadata": {},
   "outputs": [],
   "source": [
    "import os\n",
    "import nvtabular as nvt"
   ]
  },
  {
   "cell_type": "code",
   "execution_count": 11,
   "id": "8b81df73",
   "metadata": {},
   "outputs": [],
   "source": [
    "files = ['/home/jupyter/criteo/criteo_orig/day_0', '/home/jupyter/criteo/criteo_orig/day_1']"
   ]
  },
  {
   "cell_type": "code",
   "execution_count": 12,
   "id": "caffe485",
   "metadata": {},
   "outputs": [],
   "source": [
    "dataset = nvt.Dataset(\n",
    "    path_or_source=files,\n",
    "    engine='csv'\n",
    ")"
   ]
  },
  {
   "cell_type": "code",
   "execution_count": 13,
   "id": "d94db048",
   "metadata": {},
   "outputs": [
    {
     "data": {
      "text/plain": [
       "['__class__',\n",
       " '__delattr__',\n",
       " '__dict__',\n",
       " '__dir__',\n",
       " '__doc__',\n",
       " '__eq__',\n",
       " '__format__',\n",
       " '__ge__',\n",
       " '__getattribute__',\n",
       " '__gt__',\n",
       " '__hash__',\n",
       " '__init__',\n",
       " '__init_subclass__',\n",
       " '__le__',\n",
       " '__lt__',\n",
       " '__module__',\n",
       " '__ne__',\n",
       " '__new__',\n",
       " '__reduce__',\n",
       " '__reduce_ex__',\n",
       " '__repr__',\n",
       " '__setattr__',\n",
       " '__sizeof__',\n",
       " '__str__',\n",
       " '__subclasshook__',\n",
       " '__weakref__',\n",
       " '_bind_dd_method',\n",
       " 'base_dataset',\n",
       " 'client',\n",
       " 'compute',\n",
       " 'cpu',\n",
       " 'dtypes',\n",
       " 'engine',\n",
       " 'file_partition_map',\n",
       " 'head',\n",
       " 'merge',\n",
       " 'npartitions',\n",
       " 'num_rows',\n",
       " 'partition_lens',\n",
       " 'persist',\n",
       " 'regenerate_dataset',\n",
       " 'repartition',\n",
       " 'sample_dtypes',\n",
       " 'shuffle_by_keys',\n",
       " 'tail',\n",
       " 'to_cpu',\n",
       " 'to_ddf',\n",
       " 'to_gpu',\n",
       " 'to_hugectr',\n",
       " 'to_iter',\n",
       " 'to_parquet',\n",
       " 'validate_dataset']"
      ]
     },
     "execution_count": 13,
     "metadata": {},
     "output_type": "execute_result"
    }
   ],
   "source": [
    "dir(dataset)"
   ]
  },
  {
   "cell_type": "code",
   "execution_count": 14,
   "id": "2184faf9",
   "metadata": {},
   "outputs": [
    {
     "data": {
      "text/plain": [
       "1\\t5\\t110\\t\\t16\\t\\t1\\t0\\t14\\t7\\t1\\t\\t306\\t\\t62770d79\\te21f5d58\\tafea442f\\t945c7fcf\\t38b02748\\t6fcd6dcb\\t3580aa21\\t28808903\\t46dedfa6\\t2e027dc1\\t0c7c4231\\t95981d1f\\t00c5ffb7\\tbe4ee537\\t8a0b74cc\\t4cdc3efa\\td20856aa\\tb8170bba\\t9512c20b\\tc38e2f28\\t14f65a5d\\t25b1b089\\td7c1fc0b\\t7caf609c\\t30436bfc\\ted10571d    object\n",
       "dtype: object"
      ]
     },
     "execution_count": 14,
     "metadata": {},
     "output_type": "execute_result"
    }
   ],
   "source": [
    "dataset.sample_dtypes()"
   ]
  },
  {
   "cell_type": "code",
   "execution_count": 20,
   "id": "3570a4a6",
   "metadata": {},
   "outputs": [
    {
     "data": {
      "text/html": [
       "<div>\n",
       "<style scoped>\n",
       "    .dataframe tbody tr th:only-of-type {\n",
       "        vertical-align: middle;\n",
       "    }\n",
       "\n",
       "    .dataframe tbody tr th {\n",
       "        vertical-align: top;\n",
       "    }\n",
       "\n",
       "    .dataframe thead th {\n",
       "        text-align: right;\n",
       "    }\n",
       "</style>\n",
       "<table border=\"1\" class=\"dataframe\">\n",
       "  <thead>\n",
       "    <tr style=\"text-align: right;\">\n",
       "      <th></th>\n",
       "      <th>1\\t5\\t110\\t\\t16\\t\\t1\\t0\\t14\\t7\\t1\\t\\t306\\t\\t62770d79\\te21f5d58\\tafea442f\\t945c7fcf\\t38b02748\\t6fcd6dcb\\t3580aa21\\t28808903\\t46dedfa6\\t2e027dc1\\t0c7c4231\\t95981d1f\\t00c5ffb7\\tbe4ee537\\t8a0b74cc\\t4cdc3efa\\td20856aa\\tb8170bba\\t9512c20b\\tc38e2f28\\t14f65a5d\\t25b1b089\\td7c1fc0b\\t7caf609c\\t30436bfc\\ted10571d</th>\n",
       "    </tr>\n",
       "  </thead>\n",
       "  <tbody>\n",
       "    <tr>\n",
       "      <th>0</th>\n",
       "      <td>0\\t32\\t3\\t5\\t\\t1\\t0\\t0\\t61\\t5\\t0\\t1\\t3157\\t5\\t...</td>\n",
       "    </tr>\n",
       "    <tr>\n",
       "      <th>1</th>\n",
       "      <td>0\\t\\t233\\t1\\t146\\t1\\t0\\t0\\t99\\t7\\t0\\t1\\t3101\\t...</td>\n",
       "    </tr>\n",
       "    <tr>\n",
       "      <th>2</th>\n",
       "      <td>0\\t\\t24\\t\\t11\\t24\\t\\t0\\t56\\t3\\t\\t2\\t20456\\t\\t\\...</td>\n",
       "    </tr>\n",
       "    <tr>\n",
       "      <th>3</th>\n",
       "      <td>0\\t60\\t223\\t6\\t15\\t5\\t0\\t0\\t1\\t8\\t0\\t2\\t1582\\t...</td>\n",
       "    </tr>\n",
       "    <tr>\n",
       "      <th>4</th>\n",
       "      <td>1\\t7\\t1\\t10\\t2\\t\\t3\\t0\\t0\\t12\\t1\\t\\t4\\t2\\t8a2b...</td>\n",
       "    </tr>\n",
       "  </tbody>\n",
       "</table>\n",
       "</div>"
      ],
      "text/plain": [
       "  1\\t5\\t110\\t\\t16\\t\\t1\\t0\\t14\\t7\\t1\\t\\t306\\t\\t62770d79\\te21f5d58\\tafea442f\\t945c7fcf\\t38b02748\\t6fcd6dcb\\t3580aa21\\t28808903\\t46dedfa6\\t2e027dc1\\t0c7c4231\\t95981d1f\\t00c5ffb7\\tbe4ee537\\t8a0b74cc\\t4cdc3efa\\td20856aa\\tb8170bba\\t9512c20b\\tc38e2f28\\t14f65a5d\\t25b1b089\\td7c1fc0b\\t7caf609c\\t30436bfc\\ted10571d\n",
       "0  0\\t32\\t3\\t5\\t\\t1\\t0\\t0\\t61\\t5\\t0\\t1\\t3157\\t5\\t...                                                                                                                                                                                                                                                            \n",
       "1  0\\t\\t233\\t1\\t146\\t1\\t0\\t0\\t99\\t7\\t0\\t1\\t3101\\t...                                                                                                                                                                                                                                                            \n",
       "2  0\\t\\t24\\t\\t11\\t24\\t\\t0\\t56\\t3\\t\\t2\\t20456\\t\\t\\...                                                                                                                                                                                                                                                            \n",
       "3  0\\t60\\t223\\t6\\t15\\t5\\t0\\t0\\t1\\t8\\t0\\t2\\t1582\\t...                                                                                                                                                                                                                                                            \n",
       "4  1\\t7\\t1\\t10\\t2\\t\\t3\\t0\\t0\\t12\\t1\\t\\t4\\t2\\t8a2b...                                                                                                                                                                                                                                                            "
      ]
     },
     "execution_count": 20,
     "metadata": {},
     "output_type": "execute_result"
    }
   ],
   "source": [
    "dataset.head()"
   ]
  },
  {
   "cell_type": "code",
   "execution_count": null,
   "id": "5b1b8da9",
   "metadata": {},
   "outputs": [],
   "source": []
  }
 ],
 "metadata": {
  "environment": {
   "name": "common-cu110.m78",
   "type": "gcloud",
   "uri": "gcr.io/deeplearning-platform-release/base-cu110:m78"
  },
  "kernelspec": {
   "display_name": "Python [conda env:root] *",
   "language": "python",
   "name": "conda-root-py"
  },
  "language_info": {
   "codemirror_mode": {
    "name": "ipython",
    "version": 3
   },
   "file_extension": ".py",
   "mimetype": "text/x-python",
   "name": "python",
   "nbconvert_exporter": "python",
   "pygments_lexer": "ipython3",
   "version": "3.7.10"
  }
 },
 "nbformat": 4,
 "nbformat_minor": 5
}
