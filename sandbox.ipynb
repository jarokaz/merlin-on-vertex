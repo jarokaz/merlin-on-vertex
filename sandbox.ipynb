{
 "cells": [
  {
   "cell_type": "code",
   "execution_count": 7,
   "id": "a8f54d9e-73c3-4112-9884-4a57bcc6dc17",
   "metadata": {},
   "outputs": [],
   "source": [
    "import nvtabular.inference.triton.model_config_pb2 as model_config\n",
    "from google.protobuf import text_format"
   ]
  },
  {
   "cell_type": "code",
   "execution_count": 11,
   "id": "70f1aee4-1cdb-4272-9beb-feccf4465811",
   "metadata": {},
   "outputs": [],
   "source": [
    "protobuf_path = '/home/jupyter/staging/triton-ensemble-20211029200530/deepfm_nvt/config.pbtxt'"
   ]
  },
  {
   "cell_type": "code",
   "execution_count": 12,
   "id": "da9cebb1-35c5-495d-8ea2-121a0e7c4295",
   "metadata": {},
   "outputs": [
    {
     "name": "stdout",
     "output_type": "stream",
     "text": [
      "/home/jupyter/staging/triton-ensemble-20211029200530/deepfm_nvt/config.pbtxt\n"
     ]
    }
   ],
   "source": [
    "! ls {protobuf_path}"
   ]
  },
  {
   "cell_type": "code",
   "execution_count": 13,
   "id": "61d5b8d7-b1d7-4fa0-8517-70b01ae6e7fd",
   "metadata": {},
   "outputs": [],
   "source": [
    "nvt_config = model_config.ModelConfig()\n",
    "with open(protobuf_path, 'r') as f:\n",
    "    nvt_config_text = f.read()\n",
    "nvt_config = text_format.Parse(nvt_config_text, nvt_config)"
   ]
  },
  {
   "cell_type": "code",
   "execution_count": 16,
   "id": "a93e5334-ca91-4d2d-8123-59d9fe89c172",
   "metadata": {},
   "outputs": [],
   "source": [
    "nvt_config.instance_group[0].kind = 1"
   ]
  },
  {
   "cell_type": "code",
   "execution_count": 18,
   "id": "6bfc9195-ebae-4858-b9ff-bdf1ae5f42e3",
   "metadata": {},
   "outputs": [
    {
     "data": {
      "text/plain": [
       "[kind: KIND_GPU\n",
       "]"
      ]
     },
     "execution_count": 18,
     "metadata": {},
     "output_type": "execute_result"
    }
   ],
   "source": [
    "nvt_config.instance_group"
   ]
  },
  {
   "cell_type": "code",
   "execution_count": 19,
   "id": "241d0397-6084-4f65-a3c3-8d1f5fabea2a",
   "metadata": {},
   "outputs": [],
   "source": [
    "with open(protobuf_path, 'w') as f:\n",
    "    text_format.PrintMessage(nvt_config, f)"
   ]
  },
  {
   "cell_type": "code",
   "execution_count": null,
   "id": "ea4ea4fd-6e28-49ec-9765-ee8628f9070c",
   "metadata": {},
   "outputs": [],
   "source": []
  }
 ],
 "metadata": {
  "environment": {
   "kernel": "python3",
   "name": "managed-notebooks.m82",
   "type": "gcloud",
   "uri": "gcr.io/jk-mlops-dev/merlin-dev:latest"
  },
  "language_info": {
   "codemirror_mode": {
    "name": "ipython",
    "version": 3
   },
   "file_extension": ".py",
   "mimetype": "text/x-python",
   "name": "python",
   "nbconvert_exporter": "python",
   "pygments_lexer": "ipython3",
   "version": "3.8.10"
  }
 },
 "nbformat": 4,
 "nbformat_minor": 5
}
