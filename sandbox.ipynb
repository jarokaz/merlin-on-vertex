{
 "cells": [
  {
   "cell_type": "code",
   "execution_count": 3,
   "id": "a8f54d9e-73c3-4112-9884-4a57bcc6dc17",
   "metadata": {},
   "outputs": [
    {
     "name": "stdout",
     "output_type": "stream",
     "text": [
      "The autoreload extension is already loaded. To reload it, use:\n",
      "  %reload_ext autoreload\n"
     ]
    }
   ],
   "source": [
    "%load_ext autoreload\n",
    "%autoreload 2"
   ]
  },
  {
   "cell_type": "code",
   "execution_count": 4,
   "id": "ea4ea4fd-6e28-49ec-9765-ee8628f9070c",
   "metadata": {},
   "outputs": [],
   "source": [
    "import json\n",
    "import os\n",
    "import shutil\n",
    "import time\n",
    "\n",
    "from pathlib import Path\n",
    "from src.serving import export\n",
    "from src.configs import EnsembleConfig"
   ]
  },
  {
   "cell_type": "code",
   "execution_count": 5,
   "id": "df105e58-3dfd-4fa8-8d7a-306889a2aa0b",
   "metadata": {},
   "outputs": [],
   "source": [
    "PROJECT_ID = 'jk-mlops-dev' # Change to your project.\n",
    "REGION = 'us-central1'  # Change to your region.\n",
    "STAGING_BUCKET = 'jk-merlin-dev' # Change to your bucket.\n",
    "MODEL_REPOSITORY_BUCKET = 'jk-vertex-staging'\n",
    "LOCAL_WORKSPACE = '/home/jupyter/staging'\n",
    "\n",
    "MODEL_NAME = 'deepfm'\n",
    "MODEL_VERSION = 'v01'\n",
    "MODEL_DISPLAY_NAME = f'hugectr-{MODEL_NAME}-{MODEL_VERSION}'\n",
    "MODEL_DESCRIPTION = 'HugeCTR DeepFM model'\n",
    "ENDPOINT_DISPLAY_NAME = f'hugectr-{MODEL_NAME}-{MODEL_VERSION}'\n",
    "\n",
    "EXPORTED_MODELS_DIR = f'gs://{MODEL_REPOSITORY_BUCKET}/hugectr_models'\n",
    "\n",
    "IMAGE_NAME = 'triton-deploy-hugectr'\n",
    "IMAGE_URI = f\"gcr.io/{PROJECT_ID}/{IMAGE_NAME}\"\n",
    "DOCKERFILE = 'src/Dockerfile.triton'\n",
    "\n",
    "WORKFLOW_MODEL_DIR = \"gs://criteo-datasets/criteo_processed_parquet/workflow\" # Change to GCS path of the nvt workflow.\n",
    "HUGECTR_MODEL_DIR = \"gs://merlin-models/hugectr_deepfm_21.09\" # Change to GCS path of the hugectr trained model."
   ]
  },
  {
   "cell_type": "code",
   "execution_count": 6,
   "id": "583b603f-2c47-454b-a8b0-060bcb5c42c8",
   "metadata": {},
   "outputs": [
    {
     "name": "stdout",
     "output_type": "stream",
     "text": [
      "Copying gs://criteo-datasets/criteo_processed_parquet/workflow/categories/unique.C1.parquet...\n",
      "Copying gs://criteo-datasets/criteo_processed_parquet/workflow/categories/unique.C10.parquet...\n",
      "Copying gs://criteo-datasets/criteo_processed_parquet/workflow/categories/unique.C11.parquet...\n",
      "Copying gs://criteo-datasets/criteo_processed_parquet/workflow/categories/unique.C12.parquet...\n",
      "Copying gs://criteo-datasets/criteo_processed_parquet/workflow/categories/unique.C13.parquet...\n",
      "Copying gs://criteo-datasets/criteo_processed_parquet/workflow/categories/unique.C15.parquet...\n",
      "Copying gs://criteo-datasets/criteo_processed_parquet/workflow/categories/unique.C14.parquet...\n",
      "Copying gs://criteo-datasets/criteo_processed_parquet/workflow/categories/unique.C16.parquet...\n",
      "Copying gs://criteo-datasets/criteo_processed_parquet/workflow/categories/unique.C18.parquet...\n",
      "Copying gs://criteo-datasets/criteo_processed_parquet/workflow/categories/unique.C17.parquet...\n",
      "Copying gs://criteo-datasets/criteo_processed_parquet/workflow/categories/unique.C19.parquet...\n",
      "Copying gs://criteo-datasets/criteo_processed_parquet/workflow/categories/unique.C2.parquet...\n",
      "Copying gs://criteo-datasets/criteo_processed_parquet/workflow/categories/unique.C20.parquet...\n",
      "Copying gs://criteo-datasets/criteo_processed_parquet/workflow/categories/unique.C21.parquet...\n",
      "Copying gs://criteo-datasets/criteo_processed_parquet/workflow/categories/unique.C22.parquet...\n",
      "Copying gs://criteo-datasets/criteo_processed_parquet/workflow/categories/unique.C23.parquet...\n",
      "Copying gs://criteo-datasets/criteo_processed_parquet/workflow/categories/unique.C24.parquet...\n",
      "Copying gs://criteo-datasets/criteo_processed_parquet/workflow/categories/unique.C25.parquet...\n",
      "Copying gs://criteo-datasets/criteo_processed_parquet/workflow/categories/unique.C26.parquet...\n",
      "Copying gs://criteo-datasets/criteo_processed_parquet/workflow/categories/unique.C3.parquet...\n",
      "Copying gs://criteo-datasets/criteo_processed_parquet/workflow/categories/unique.C8.parquet...\n",
      "Copying gs://criteo-datasets/criteo_processed_parquet/workflow/categories/unique.C4.parquet...\n",
      "Copying gs://criteo-datasets/criteo_processed_parquet/workflow/categories/unique.C5.parquet...\n",
      "Copying gs://criteo-datasets/criteo_processed_parquet/workflow/categories/unique.C6.parquet...\n",
      "Copying gs://criteo-datasets/criteo_processed_parquet/workflow/categories/unique.C7.parquet...\n",
      "Copying gs://criteo-datasets/criteo_processed_parquet/workflow/metadata.json... \n",
      "Copying gs://criteo-datasets/criteo_processed_parquet/workflow/categories/unique.C9.parquet...\n",
      "Copying gs://criteo-datasets/criteo_processed_parquet/workflow/workflow.pkl...\n",
      "\\ [28/28 files][289.7 MiB/289.7 MiB] 100% Done                                  \n",
      "Operation completed over 28 objects/289.7 MiB.                                   \n",
      "Copying gs://merlin-models/hugectr_deepfm_21.09/deepfm.json...\n",
      "Copying gs://merlin-models/hugectr_deepfm_21.09/deepfm0_opt_sparse_0.model...   \n",
      "Copying gs://merlin-models/hugectr_deepfm_21.09/deepfm0_sparse_0.model/emb_vector...\n",
      "Copying gs://merlin-models/hugectr_deepfm_21.09/deepfm0_sparse_0.model/key...   \n",
      "Copying gs://merlin-models/hugectr_deepfm_21.09/deepfm0_sparse_0.model/slot_id...\n",
      "Copying gs://merlin-models/hugectr_deepfm_21.09/deepfm_dense_0.model...         \n",
      "Copying gs://merlin-models/hugectr_deepfm_21.09/deepfm_opt_dense_0.model...     \n",
      "| [7/7 files][  4.2 GiB/  4.2 GiB] 100% Done  71.8 MiB/s ETA 00:00:00           \n",
      "Operation completed over 7 objects/4.2 GiB.                                      \n"
     ]
    }
   ],
   "source": [
    "if os.path.isdir(LOCAL_WORKSPACE):\n",
    "    shutil.rmtree(LOCAL_WORKSPACE)\n",
    "os.makedirs(LOCAL_WORKSPACE)\n",
    "\n",
    "!gsutil -m cp -r {WORKFLOW_MODEL_DIR} {LOCAL_WORKSPACE}\n",
    "!gsutil -m cp -r {HUGECTR_MODEL_DIR} {LOCAL_WORKSPACE}"
   ]
  },
  {
   "cell_type": "code",
   "execution_count": 9,
   "id": "df7c3a10-db7d-49ed-9b1f-98ce177f9067",
   "metadata": {},
   "outputs": [],
   "source": [
    "ensemble_config = EnsembleConfig()\n",
    "local_workflow_path = Path(LOCAL_WORKSPACE) / Path(WORKFLOW_MODEL_DIR).parts[-1]\n",
    "local_saved_model_path = Path(LOCAL_WORKSPACE) / Path(HUGECTR_MODEL_DIR).parts[-1]\n",
    "local_ensemble_path = Path(LOCAL_WORKSPACE) / f'triton-ensemble-{time.strftime(\"%Y%m%d%H%M%S\")}'\n",
    "#model_registry_path = '/models'\n",
    "model_repository_path = 'gs://jk-merlin-dev/ensembles/ensemble_1'\n",
    "\n",
    "\n",
    "export.export_ensemble(\n",
    "    model_name=MODEL_NAME,\n",
    "    workflow_path=local_workflow_path,\n",
    "    saved_model_path=local_saved_model_path,\n",
    "    output_path=local_ensemble_path,\n",
    "    categorical_columns=ensemble_config.categorical_columns,\n",
    "    continuous_columns=ensemble_config.continuous_columns,\n",
    "    label_columns=ensemble_config.label_columns,\n",
    "    num_slots=ensemble_config.num_slots,\n",
    "    max_nnz=ensemble_config.max_nnz,\n",
    "    num_outputs=ensemble_config.num_outputs,\n",
    "    embedding_vector_size=ensemble_config.embedding_vector_size,\n",
    "    max_batch_size=ensemble_config.max_batch_size,\n",
    "    model_registry_path=model_repository_path\n",
    "    )"
   ]
  },
  {
   "cell_type": "code",
   "execution_count": null,
   "id": "2866707d-bc74-4aca-84e4-83d2547793aa",
   "metadata": {},
   "outputs": [],
   "source": []
  }
 ],
 "metadata": {
  "environment": {
   "kernel": "python3",
   "name": "managed-notebooks.m82",
   "type": "gcloud",
   "uri": "gcr.io/jk-mlops-dev/merlin-dev:latest"
  },
  "language_info": {
   "codemirror_mode": {
    "name": "ipython",
    "version": 3
   },
   "file_extension": ".py",
   "mimetype": "text/x-python",
   "name": "python",
   "nbconvert_exporter": "python",
   "pygments_lexer": "ipython3",
   "version": "3.8.10"
  }
 },
 "nbformat": 4,
 "nbformat_minor": 5
}
