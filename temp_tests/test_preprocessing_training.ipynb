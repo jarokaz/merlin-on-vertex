{
 "cells": [
  {
   "cell_type": "code",
   "execution_count": null,
   "metadata": {},
   "outputs": [],
   "source": [
    "import os"
   ]
  },
  {
   "cell_type": "code",
   "execution_count": null,
   "metadata": {},
   "outputs": [],
   "source": [
    "# Preprocessing configs\n",
    "PROJECT_ID = 'renatoleite-mldemos' # Change to your project Id.\n",
    "REGION = 'us-central1' # Change to your region.\n",
    "DATASET_GCS_LOCATION = 'gs://workshop-datasets/criteo'\n",
    "BUCKET =  'renatoleite-nvtabular' # Change to your bucket.\n",
    "\n",
    "VERSION = 'v01'\n",
    "MODEL_DISPLAY_NAME = f'criteo-merlin-recommender-{VERSION}'\n",
    "WORKSPACE = f'gs://{BUCKET}/{MODEL_DISPLAY_NAME}'\n",
    "\n",
    "IMAGE_NAME = 'nvt-nvidia'\n",
    "IMAGE_URI = f'gcr.io/{PROJECT_ID}/{IMAGE_NAME}'\n",
    "DOCKERFILE = 'src/Dockerfile.nvtabular'\n",
    "\n",
    "PREPROCESS_CSV_PIPELINE_NAME = 'nvt-csv-pipeline'\n",
    "PREPROCESS_CSV_PIPELINE_ROOT = os.path.join(WORKSPACE, PREPROCESS_CSV_PIPELINE_NAME)\n",
    "\n",
    "PREPROCESS_BQ_PIPELINE_NAME =  'nvt-bq-pipeline'\n",
    "PREPROCESS_BQ_PIPELINE_ROOT = os.path.join(WORKSPACE, PREPROCESS_BQ_PIPELINE_NAME)"
   ]
  },
  {
   "cell_type": "code",
   "execution_count": null,
   "metadata": {},
   "outputs": [],
   "source": [
    "# Training configs\n",
    "PROJECT = 'renatoleite-mldemos' # Change to your project.\n",
    "REGION = 'us-central1'  # Change to your region.\n",
    "BUCKET = 'renatoleite-nvtabular' # Change to your bucket.\n",
    "\n",
    "VERSION = 'v01'\n",
    "MODEL_DISPLAY_NAME = f'hugectr-deepfm-{VERSION}'\n",
    "WORKSPACE = f'gs://{BUCKET}/{MODEL_DISPLAY_NAME}'\n",
    "\n",
    "VERTEX_SA = f'sa-admin@{PROJECT}.iam.gserviceaccount.com' # change to your service account.\n",
    "\n",
    "IMAGE_NAME = 'hugectr-nvidia'\n",
    "IMAGE_URI = f'gcr.io/{PROJECT}/{IMAGE_NAME}'\n",
    "DOCKERFILE = 'src/Dockerfile.hugectr'\n",
    "\n",
    "# DATA_ROOT = '/gcs/jk-criteo-bucket/criteo_processed_parquet'\n",
    "TRAIN_DATA = 'gs://renatoleite-nvtabular/criteo-merlin-recommender-v01/nvt-bq-pipeline/464015718044/nvt-bq-pipeline-20211028132633/transform-dataset-op_1802486586017841152/transformed_dataset/train/_file_list.txt'\n",
    "VALID_DATA = 'gs://renatoleite-nvtabular/criteo-merlin-recommender-v01/nvt-bq-pipeline/464015718044/nvt-bq-pipeline-20211028132633/transform-dataset-op-2_-7420885450836934656/transformed_dataset/valid/_file_list.txt'\n",
    "SCHEMA_PATH = 'gs://renatoleite-nvtabular/criteo-merlin-recommender-v01/nvt-bq-pipeline/464015718044/nvt-bq-pipeline-20211028132633/transform-dataset-op_1802486586017841152/transformed_dataset/train/schema.pbtxt'"
   ]
  },
  {
   "cell_type": "markdown",
   "metadata": {},
   "source": [
    "# Preprocessing: local testing"
   ]
  },
  {
   "cell_type": "markdown",
   "metadata": {},
   "source": []
  }
 ],
 "metadata": {
  "language_info": {
   "name": "python"
  },
  "orig_nbformat": 4
 },
 "nbformat": 4,
 "nbformat_minor": 2
}
