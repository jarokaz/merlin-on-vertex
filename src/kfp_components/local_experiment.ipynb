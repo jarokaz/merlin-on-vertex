{
 "cells": [
  {
   "cell_type": "code",
   "execution_count": 1,
   "source": [
    "from local_test_kfp_components import *"
   ],
   "outputs": [],
   "metadata": {}
  },
  {
   "cell_type": "code",
   "execution_count": 2,
   "source": [
    "import nvtabular as nvt\n",
    "from nvtabular.ops import (\n",
    "    Categorify,\n",
    "    Clip,\n",
    "    FillMissing,\n",
    "    Normalize,\n",
    ")\n",
    "\n",
    "cont_names = [\"I\" + str(x) for x in range(1, 14)]\n",
    "cat_names = [\"C\" + str(x) for x in range(1, 27)]\n",
    "columns = [\"label\"] + cont_names + cat_names\n",
    "\n",
    "# Specify column dtypes. Note that \"hex\" means that\n",
    "# the values will be hexadecimal strings that should\n",
    "# be converted to int32\n",
    "cols_dtype = {}\n",
    "cols_dtype[\"label\"] = 'int32'\n",
    "for x in cont_names:\n",
    "    cols_dtype[x] = 'int32'\n",
    "for x in cat_names:\n",
    "    cols_dtype[x] = 'hex'\n",
    "\n",
    "# Transformation steps\n",
    "num_buckets = 10000000\n",
    "categorify_op = Categorify(max_size=num_buckets)\n",
    "cat_features = cat_names >> categorify_op\n",
    "cont_features = cont_names >> FillMissing() >> Clip(min_value=0) >> Normalize()\n",
    "features = cat_features + cont_features + ['label']"
   ],
   "outputs": [],
   "metadata": {}
  },
  {
   "cell_type": "code",
   "execution_count": 2,
   "source": [
    "train_paths = ['renatoleite-criteo-partial/flat_data/day_0'] #: list,\n",
    "valid_paths = ['renatoleite-criteo-partial/flat_data/day_1'] #: list,\n",
    "output_path = 'renatoleite-criteo-partial/converted' #: str,\n",
    "gpus = '0'\n",
    "sep = '\\t'"
   ],
   "outputs": [],
   "metadata": {}
  },
  {
   "cell_type": "code",
   "execution_count": null,
   "source": [
    "result = convert_csv_to_parquet_op(\n",
    "    train_paths=train_paths,\n",
    "    valid_paths=valid_paths,\n",
    "    output_path=output_path,\n",
    "    columns=columns,\n",
    "    cols_dtype=cols_dtype,\n",
    "    sep=sep,\n",
    "    gpus=gpus,\n",
    "    output_dataset = {},\n",
    "    shuffle = None,\n",
    "    recursive = False\n",
    ")"
   ],
   "outputs": [],
   "metadata": {}
  },
  {
   "cell_type": "code",
   "execution_count": 3,
   "source": [
    "result = {'train':'/gcs/renatoleite-criteo-partial/converted/train',\n",
    "          'valid':'/gcs/renatoleite-criteo-partial/converted/valid'}\n",
    "workflow_path = 'renatoleite-criteo-partial/saved_workflow'"
   ],
   "outputs": [],
   "metadata": {}
  },
  {
   "cell_type": "code",
   "execution_count": 8,
   "source": [
    "fit_result = fit_dataset_op(\n",
    "    datasets=result,\n",
    "    fitted_workflow={},\n",
    "    workflow_path=workflow_path,\n",
    "    gpus=gpus\n",
    ")"
   ],
   "outputs": [
    {
     "output_type": "stream",
     "name": "stderr",
     "text": [
      "INFO:numba.cuda.cudadrv.driver:init\n",
      "INFO:root:Creating a Dask CUDA cluster\n",
      "INFO:root:Loading saved workflow\n",
      "INFO:root:Starting workflow fitting\n",
      "/opt/conda/lib/python3.7/site-packages/numba/cuda/compiler.py:865: NumbaPerformanceWarning: \u001b[1mGrid size (1) < 2 * SM count (80) will likely result in GPU under utilization due to low occupancy.\u001b[0m\n",
      "  warn(NumbaPerformanceWarning(msg))\n",
      "INFO:root:Finished generating statistics for dataset.\n",
      "INFO:root:Saving workflow to /gcs/renatoleite-criteo-partial/saved_workflow/fitted_workflow\n"
     ]
    }
   ],
   "metadata": {}
  },
  {
   "cell_type": "code",
   "execution_count": 4,
   "source": [
    "fit_result = {\n",
    "    'datasets':{\n",
    "        'train':'/gcs/renatoleite-criteo-partial/converted/train',\n",
    "        'valid':'/gcs/renatoleite-criteo-partial/converted/valid'\n",
    "    },\n",
    "    'fitted_workflow':'/gcs/renatoleite-criteo-partial/saved_workflow/fitted_workflow'\n",
    "}\n",
    "output_transformed = 'renatoleite-criteo-partial/transformed_data/'"
   ],
   "outputs": [],
   "metadata": {}
  },
  {
   "cell_type": "code",
   "execution_count": 9,
   "source": [
    "transform_result = transform_dataset_op(\n",
    "    fitted_workflow=fit_result,\n",
    "    transformed_dataset={},\n",
    "    output_transformed=output_transformed,\n",
    "    gpus=gpus\n",
    ")"
   ],
   "outputs": [
    {
     "output_type": "stream",
     "name": "stderr",
     "text": [
      "INFO:numba.cuda.cudadrv.driver:init\n",
      "INFO:root:Creating a Dask CUDA cluster\n",
      "INFO:root:Loading workflow and statistics\n",
      "INFO:root:Creating dataset definition\n",
      "INFO:root:Start workflow transformation\n",
      "INFO:root:Finished transformation\n"
     ]
    }
   ],
   "metadata": {}
  },
  {
   "cell_type": "code",
   "execution_count": 5,
   "source": [
    "transform_result = {\n",
    "    'transformed_dataset': \n",
    "        '/gcs/renatoleite-criteo-partial/transformed_data/train',\n",
    "    'original_datasets': {\n",
    "        'train': '/gcs/renatoleite-criteo-partial/converted/train',\n",
    "        'valid': '/gcs/renatoleite-criteo-partial/converted/valid'\n",
    "    }\n",
    "}"
   ],
   "outputs": [],
   "metadata": {}
  },
  {
   "cell_type": "code",
   "execution_count": 4,
   "source": [
    "output_path = 'renatoleite-criteo-partial/bq_exported/'\n",
    "project = \"bigquery-public-data\"\n",
    "dataset_id = \"samples\"\n",
    "table_id = \"shakespeare\""
   ],
   "outputs": [],
   "metadata": {}
  },
  {
   "cell_type": "code",
   "execution_count": 5,
   "source": [
    "# BQ Export feature\n",
    "result = export_parquet_from_bq_op(\n",
    "    output_path=output_path,\n",
    "    bq_project=project,\n",
    "    bq_dataset_id=dataset_id,\n",
    "    bq_table_train=table_id,\n",
    "    bq_table_valid=table_id,\n",
    "    location='US',\n",
    "    output_dataset={},\n",
    ")"
   ],
   "outputs": [
    {
     "output_type": "stream",
     "name": "stderr",
     "text": [
      "INFO:root:Extracting bigquery-public-data.samples.shakespeare to gs://renatoleite-criteo-partial/bq_exported/train/train-*.parquet\n",
      "INFO:root:Saving metadata for train path: /gcs/renatoleite-criteo-partial/bq_exported/train\n",
      "INFO:root:Extracting bigquery-public-data.samples.shakespeare to gs://renatoleite-criteo-partial/bq_exported/valid/valid-*.parquet\n",
      "INFO:root:Saving metadata for valid path: /gcs/renatoleite-criteo-partial/bq_exported/valid\n"
     ]
    }
   ],
   "metadata": {}
  }
 ],
 "metadata": {
  "orig_nbformat": 4,
  "language_info": {
   "name": "python",
   "version": "3.7.10",
   "mimetype": "text/x-python",
   "codemirror_mode": {
    "name": "ipython",
    "version": 3
   },
   "pygments_lexer": "ipython3",
   "nbconvert_exporter": "python",
   "file_extension": ".py"
  },
  "kernelspec": {
   "name": "python3",
   "display_name": "Python 3.7.10 64-bit ('base': conda)"
  },
  "interpreter": {
   "hash": "98b0a9b7b4eaaa670588a142fd0a9b87eaafe866f1db4228be72b4211d12040f"
  }
 },
 "nbformat": 4,
 "nbformat_minor": 2
}