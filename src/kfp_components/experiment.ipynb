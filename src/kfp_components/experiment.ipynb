{
 "cells": [
  {
   "cell_type": "markdown",
   "source": [
    "# Components\n",
    "\n",
    "Components:\n",
    " - Convert file to Parquet (.to_parquet)\n",
    " - Export data from BQ as parquet to GCS\n",
    " - Fit the data (.fit)\n",
    " - Preprocess the data (.transform)\n",
    "\n",
    "All the components will use FUSE as the main storage driver.  \n",
    "Files will be read and write from/to GCS after each operation.\n",
    "\n",
    "Components must be generic enough for customers to reuse them."
   ],
   "metadata": {}
  },
  {
   "cell_type": "code",
   "execution_count": 22,
   "source": [
    "import kfp\n",
    "from kfp.v2 import dsl\n",
    "from kfp.v2.dsl import (Artifact, Dataset, Input, InputPath, Model, Output,\n",
    "                        OutputPath)\n",
    "from typing import Optional\n",
    "\n",
    "from kfp import LocalClient, run_pipeline_func_locally"
   ],
   "outputs": [],
   "metadata": {}
  },
  {
   "cell_type": "code",
   "execution_count": 3,
   "source": [
    "client = kfp.LocalClient()"
   ],
   "outputs": [
    {
     "output_type": "stream",
     "name": "stderr",
     "text": [
      "/opt/conda/lib/python3.7/site-packages/kfp/_local_client.py:184: FutureWarning: LocalClient is an Alpha[1] feature. It may be deprecated in the future.\n",
      "[1] https://github.com/kubeflow/pipelines/blob/master/docs/release/feature-stages.md#alpha\n",
      "  category=FutureWarning,\n"
     ]
    }
   ],
   "metadata": {}
  },
  {
   "cell_type": "code",
   "execution_count": 17,
   "source": [
    "BASE_IMAGE_NAME='us-east1-docker.pkg.dev/renatoleite-mldemos/docker-images/nvt-conda'"
   ],
   "outputs": [],
   "metadata": {}
  },
  {
   "cell_type": "code",
   "execution_count": 18,
   "source": [
    "def test_comp():\n",
    "    import logging\n",
    "    import nvtabular as nvt\n",
    "    import numpy as np\n",
    "    import os\n",
    "    \n",
    "    from dask_cuda import LocalCUDACluster\n",
    "    from dask.distributed import Client\n",
    "    print('passou')"
   ],
   "outputs": [],
   "metadata": {}
  },
  {
   "cell_type": "code",
   "execution_count": 13,
   "source": [
    "def test_pipeline():\n",
    "    test = test_comp()"
   ],
   "outputs": [],
   "metadata": {}
  },
  {
   "cell_type": "code",
   "execution_count": 21,
   "source": [
    "test = kfp.components.create_component_from_func_v2(test_comp, base_image=BASE_IMAGE_NAME, install_kfp_package=False)"
   ],
   "outputs": [],
   "metadata": {}
  },
  {
   "cell_type": "code",
   "execution_count": 23,
   "source": [
    "run_result = run_pipeline_func_locally(\n",
    "    test_pipeline,\n",
    "    {},\n",
    "    execution_mode=LocalClient.ExecutionMode(\"local\"),\n",
    ")"
   ],
   "outputs": [
    {
     "output_type": "stream",
     "name": "stderr",
     "text": [
      "/opt/conda/lib/python3.7/site-packages/kfp/_local_client.py:184: FutureWarning: LocalClient is an Alpha[1] feature. It may be deprecated in the future.\n",
      "[1] https://github.com/kubeflow/pipelines/blob/master/docs/release/feature-stages.md#alpha\n",
      "  category=FutureWarning,\n"
     ]
    },
    {
     "output_type": "stream",
     "name": "stdout",
     "text": [
      "passou\n"
     ]
    }
   ],
   "metadata": {}
  },
  {
   "cell_type": "code",
   "execution_count": null,
   "source": [],
   "outputs": [],
   "metadata": {}
  }
 ],
 "metadata": {
  "orig_nbformat": 4,
  "language_info": {
   "name": "python",
   "version": "3.7.10",
   "mimetype": "text/x-python",
   "codemirror_mode": {
    "name": "ipython",
    "version": 3
   },
   "pygments_lexer": "ipython3",
   "nbconvert_exporter": "python",
   "file_extension": ".py"
  },
  "kernelspec": {
   "name": "python3",
   "display_name": "Python 3.7.10 64-bit ('base': conda)"
  },
  "interpreter": {
   "hash": "98b0a9b7b4eaaa670588a142fd0a9b87eaafe866f1db4228be72b4211d12040f"
  }
 },
 "nbformat": 4,
 "nbformat_minor": 2
}