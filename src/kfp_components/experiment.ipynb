{
 "cells": [
  {
   "cell_type": "markdown",
   "source": [
    "# Components\n",
    "\n",
    "Components:\n",
    " - Convert file to Parquet (.to_parquet)\n",
    " - Export data from BQ as parquet to GCS\n",
    " - Fit the data (.fit)\n",
    " - Preprocess the data (.transform)\n",
    "\n",
    "All the components will use FUSE as the main storage driver.  \n",
    "Files will be read and write from/to GCS after each operation.\n",
    "\n",
    "Components must be generic enough for customers to reuse them."
   ],
   "metadata": {}
  },
  {
   "cell_type": "markdown",
   "source": [],
   "metadata": {}
  }
 ],
 "metadata": {
  "orig_nbformat": 4,
  "language_info": {
   "name": "python",
   "version": "3.7.10",
   "mimetype": "text/x-python",
   "codemirror_mode": {
    "name": "ipython",
    "version": 3
   },
   "pygments_lexer": "ipython3",
   "nbconvert_exporter": "python",
   "file_extension": ".py"
  },
  "kernelspec": {
   "name": "python3",
   "display_name": "Python 3.7.10 64-bit ('base': conda)"
  },
  "interpreter": {
   "hash": "98b0a9b7b4eaaa670588a142fd0a9b87eaafe866f1db4228be72b4211d12040f"
  }
 },
 "nbformat": 4,
 "nbformat_minor": 2
}