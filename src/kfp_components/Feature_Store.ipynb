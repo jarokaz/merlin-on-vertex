{
 "cells": [
  {
   "cell_type": "markdown",
   "source": [
    "# Feature Store"
   ],
   "metadata": {}
  },
  {
   "cell_type": "markdown",
   "source": [
    "## Params"
   ],
   "metadata": {}
  },
  {
   "cell_type": "code",
   "execution_count": 18,
   "source": [
    "PROJECT_ID = \"egon-ongcp-demos\"  # @param {type:\"string\"}\n",
    "REGION = \"us-central1\" # @param {type:\"string\"}\n",
    "\n",
    "INPUT_CSV_FILE = \"gs://egon-ongcp-demos-vertex-pipelines-artifact/dataset.csv\" # @param {type:\"string\"}\n",
    "BIGQUERY_TABLE = \"egon-ongcp-demos.mlops_e2e_20210523223149.dataset_cast\" # @param {type:\"string\"}\n",
    "ID_COLUMN = \"id\" # @param {type:\"string\"}\n",
    "IGNORE_COLUMNS_INGESTION = [\"id\", \"int64_field_0\"] # @param {type:\"list[string]\"}\n",
    "\n",
    "FEATURE_STORE_NAME_PREFIX = \"mlops_e2e\" # @param {type:\"string\"}\n",
    "FEATURE_STORE_NODE_COUNT = 1 # @param {type:\"int\"}\n",
    "\n",
    "ENTITY_TYPE_ID = \"users\" # @param {type:\"string\"}\n",
    "ENTITY_TYPE_DESCRIPTION = \"Users that uses or ask for credit\" # @param {type:\"string\"}\n",
    "ENTITY_TYPE_MONITORING_INTERVAL = 3600 # @param {type:\"int\"}\n",
    "\n",
    "IMPORT_WORKER_COUNT = 1 # @param {type:\"int\"}"
   ],
   "outputs": [],
   "metadata": {}
  },
  {
   "cell_type": "code",
   "execution_count": 19,
   "source": [
    "# Constants based on the params\n",
    "BIGQUERY_SOURCE = f\"bq://{BIGQUERY_TABLE}\"\n",
    "API_ENDPOINT = f\"{REGION}-aiplatform.googleapis.com\""
   ],
   "outputs": [],
   "metadata": {}
  },
  {
   "cell_type": "markdown",
   "source": [
    "## Imports and Clients"
   ],
   "metadata": {}
  },
  {
   "cell_type": "code",
   "execution_count": 20,
   "source": [
    "from datetime import datetime\n",
    "import re\n",
    "import time\n",
    "\n",
    "from google.api_core.exceptions import AlreadyExists\n",
    "\n",
    "from google.cloud import bigquery\n",
    "\n",
    "from google.cloud.aiplatform_v1beta1 import (\n",
    "    FeaturestoreOnlineServingServiceClient, FeaturestoreServiceClient)\n",
    "from google.cloud.aiplatform_v1beta1.types import FeatureSelector, IdMatcher\n",
    "from google.cloud.aiplatform_v1beta1.types import \\\n",
    "    entity_type as entity_type_pb2\n",
    "from google.cloud.aiplatform_v1beta1.types import feature as feature_pb2\n",
    "from google.cloud.aiplatform_v1beta1.types import \\\n",
    "    featurestore as featurestore_pb2\n",
    "from google.cloud.aiplatform_v1beta1.types import \\\n",
    "    featurestore_monitoring as featurestore_monitoring_pb2\n",
    "from google.cloud.aiplatform_v1beta1.types import \\\n",
    "    featurestore_online_service as featurestore_online_service_pb2\n",
    "from google.cloud.aiplatform_v1beta1.types import \\\n",
    "    featurestore_service as featurestore_service_pb2\n",
    "from google.cloud.aiplatform_v1beta1.types import io as io_pb2\n",
    "from google.protobuf.duration_pb2 import Duration\n",
    "from google.protobuf.timestamp_pb2 import Timestamp\n",
    "\n",
    "import pandas as pd"
   ],
   "outputs": [],
   "metadata": {}
  },
  {
   "cell_type": "code",
   "execution_count": 21,
   "source": [
    "TIMESTAMP = datetime.now().strftime(\"%Y%m%d%H%M%S\")"
   ],
   "outputs": [],
   "metadata": {}
  },
  {
   "cell_type": "code",
   "execution_count": 22,
   "source": [
    "# Create admin_client for CRUD and data_client for reading feature values.\n",
    "admin_client = FeaturestoreServiceClient(client_options={\"api_endpoint\": API_ENDPOINT})\n",
    "data_client = FeaturestoreOnlineServingServiceClient(\n",
    "    client_options={\"api_endpoint\": API_ENDPOINT}\n",
    ")\n",
    "\n",
    "# Represents featurestore resource path.\n",
    "BASE_RESOURCE_PATH = admin_client.common_location_path(PROJECT_ID, REGION)"
   ],
   "outputs": [],
   "metadata": {}
  },
  {
   "cell_type": "markdown",
   "source": [
    "## Create Feature Store"
   ],
   "metadata": {}
  },
  {
   "cell_type": "code",
   "execution_count": 23,
   "source": [
    "FEATURESTORE_ID = f\"{FEATURE_STORE_NAME_PREFIX}_{TIMESTAMP}\"\n",
    "create_lro = admin_client.create_featurestore(\n",
    "    featurestore_service_pb2.CreateFeaturestoreRequest(\n",
    "        parent=BASE_RESOURCE_PATH,\n",
    "        featurestore_id=FEATURESTORE_ID,\n",
    "        featurestore=featurestore_pb2.Featurestore(\n",
    "            online_serving_config=featurestore_pb2.Featurestore.OnlineServingConfig(\n",
    "                fixed_node_count=FEATURE_STORE_NODE_COUNT\n",
    "            ),\n",
    "        ),\n",
    "    )\n",
    ")"
   ],
   "outputs": [],
   "metadata": {}
  },
  {
   "cell_type": "code",
   "execution_count": 24,
   "source": [
    "# Wait for LRO to finish and get the LRO result.\n",
    "print(create_lro.result())"
   ],
   "outputs": [
    {
     "output_type": "stream",
     "name": "stdout",
     "text": [
      "name: \"projects/203258207752/locations/us-central1/featurestores/mlops_e2e_20210917123714\"\n",
      "\n"
     ]
    }
   ],
   "metadata": {}
  },
  {
   "cell_type": "markdown",
   "source": [
    "## Create Entity Type"
   ],
   "metadata": {}
  },
  {
   "cell_type": "code",
   "execution_count": 25,
   "source": [
    "# Create users entity type with monitoring enabled.\n",
    "# All Features belonging to this EntityType will by default inherit the monitoring config.\n",
    "users_entity_type_lro = admin_client.create_entity_type(\n",
    "    featurestore_service_pb2.CreateEntityTypeRequest(\n",
    "        parent=admin_client.featurestore_path(PROJECT_ID, REGION, FEATURESTORE_ID),\n",
    "        entity_type_id=ENTITY_TYPE_ID,\n",
    "        entity_type=entity_type_pb2.EntityType(\n",
    "            description=ENTITY_TYPE_DESCRIPTION,\n",
    "            monitoring_config=featurestore_monitoring_pb2.FeaturestoreMonitoringConfig(\n",
    "                snapshot_analysis=featurestore_monitoring_pb2.FeaturestoreMonitoringConfig.SnapshotAnalysis(\n",
    "                    monitoring_interval=Duration(seconds=ENTITY_TYPE_MONITORING_INTERVAL),\n",
    "                ),\n",
    "            ),\n",
    "        ),\n",
    "    )\n",
    ")\n",
    "\n",
    "# Similarly, wait for EntityType creation operation.\n",
    "print(users_entity_type_lro.result())"
   ],
   "outputs": [
    {
     "output_type": "stream",
     "name": "stdout",
     "text": [
      "name: \"projects/203258207752/locations/us-central1/featurestores/mlops_e2e_20210917123714/entityTypes/users\"\n",
      "etag: \"AMEw9yMJydqOT2m1r_cU6nOUXxxu5D0DlW6wAXnH0apuwYGxvLBh\"\n",
      "\n"
     ]
    }
   ],
   "metadata": {}
  },
  {
   "cell_type": "code",
   "execution_count": 26,
   "source": [
    "param_dict = {\"table\": BIGQUERY_TABLE}"
   ],
   "outputs": [],
   "metadata": {}
  },
  {
   "cell_type": "code",
   "execution_count": 27,
   "source": [
    "%%bigquery df\n",
    "\n",
    "SELECT * FROM `egon-ongcp-demos.mlops_e2e_20210523223149.dataset_cast` LIMIT 1000"
   ],
   "outputs": [
    {
     "output_type": "stream",
     "name": "stderr",
     "text": [
      "Query complete after 0.46s: 100%|██████████| 1/1 [00:00<00:00, 236.89query/s]                          \n",
      "Downloading: 100%|██████████| 1000/1000 [00:00<00:00, 1241.00rows/s]\n"
     ]
    }
   ],
   "metadata": {}
  },
  {
   "cell_type": "code",
   "execution_count": 34,
   "source": [
    "df.head()"
   ],
   "outputs": [
    {
     "output_type": "execute_result",
     "data": {
      "text/html": [
       "<div>\n",
       "<style scoped>\n",
       "    .dataframe tbody tr th:only-of-type {\n",
       "        vertical-align: middle;\n",
       "    }\n",
       "\n",
       "    .dataframe tbody tr th {\n",
       "        vertical-align: top;\n",
       "    }\n",
       "\n",
       "    .dataframe thead th {\n",
       "        text-align: right;\n",
       "    }\n",
       "</style>\n",
       "<table border=\"1\" class=\"dataframe\">\n",
       "  <thead>\n",
       "    <tr style=\"text-align: right;\">\n",
       "      <th></th>\n",
       "      <th>int64_field_0</th>\n",
       "      <th>gender</th>\n",
       "      <th>car</th>\n",
       "      <th>reality</th>\n",
       "      <th>days_birth</th>\n",
       "      <th>days_employed</th>\n",
       "      <th>flag_mobil</th>\n",
       "      <th>famsize</th>\n",
       "      <th>begin_month</th>\n",
       "      <th>chldno_1</th>\n",
       "      <th>...</th>\n",
       "      <th>famtp_separated</th>\n",
       "      <th>famtp_singlenotmarried</th>\n",
       "      <th>famtp_widow</th>\n",
       "      <th>id</th>\n",
       "      <th>inc</th>\n",
       "      <th>wkphone</th>\n",
       "      <th>phone</th>\n",
       "      <th>email</th>\n",
       "      <th>dep_value</th>\n",
       "      <th>target</th>\n",
       "    </tr>\n",
       "  </thead>\n",
       "  <tbody>\n",
       "    <tr>\n",
       "      <th>0</th>\n",
       "      <td>22935</td>\n",
       "      <td>0.0</td>\n",
       "      <td>0.0</td>\n",
       "      <td>1.0</td>\n",
       "      <td>-21532.0</td>\n",
       "      <td>-4630.0</td>\n",
       "      <td>1.0</td>\n",
       "      <td>1</td>\n",
       "      <td>-57.0</td>\n",
       "      <td>0.0</td>\n",
       "      <td>...</td>\n",
       "      <td>0</td>\n",
       "      <td>1</td>\n",
       "      <td>0</td>\n",
       "      <td>5094890</td>\n",
       "      <td>9</td>\n",
       "      <td>0</td>\n",
       "      <td>0</td>\n",
       "      <td>0</td>\n",
       "      <td>false</td>\n",
       "      <td>0</td>\n",
       "    </tr>\n",
       "    <tr>\n",
       "      <th>1</th>\n",
       "      <td>22934</td>\n",
       "      <td>0.0</td>\n",
       "      <td>0.0</td>\n",
       "      <td>1.0</td>\n",
       "      <td>-21532.0</td>\n",
       "      <td>-4630.0</td>\n",
       "      <td>1.0</td>\n",
       "      <td>1</td>\n",
       "      <td>-45.0</td>\n",
       "      <td>0.0</td>\n",
       "      <td>...</td>\n",
       "      <td>0</td>\n",
       "      <td>1</td>\n",
       "      <td>0</td>\n",
       "      <td>5094889</td>\n",
       "      <td>9</td>\n",
       "      <td>0</td>\n",
       "      <td>0</td>\n",
       "      <td>0</td>\n",
       "      <td>false</td>\n",
       "      <td>0</td>\n",
       "    </tr>\n",
       "    <tr>\n",
       "      <th>2</th>\n",
       "      <td>22933</td>\n",
       "      <td>0.0</td>\n",
       "      <td>0.0</td>\n",
       "      <td>1.0</td>\n",
       "      <td>-21532.0</td>\n",
       "      <td>-4630.0</td>\n",
       "      <td>1.0</td>\n",
       "      <td>1</td>\n",
       "      <td>-57.0</td>\n",
       "      <td>0.0</td>\n",
       "      <td>...</td>\n",
       "      <td>0</td>\n",
       "      <td>1</td>\n",
       "      <td>0</td>\n",
       "      <td>5094888</td>\n",
       "      <td>9</td>\n",
       "      <td>0</td>\n",
       "      <td>0</td>\n",
       "      <td>0</td>\n",
       "      <td>false</td>\n",
       "      <td>0</td>\n",
       "    </tr>\n",
       "    <tr>\n",
       "      <th>3</th>\n",
       "      <td>28983</td>\n",
       "      <td>0.0</td>\n",
       "      <td>0.0</td>\n",
       "      <td>0.0</td>\n",
       "      <td>-11792.0</td>\n",
       "      <td>-126.0</td>\n",
       "      <td>1.0</td>\n",
       "      <td>3</td>\n",
       "      <td>-40.0</td>\n",
       "      <td>1.0</td>\n",
       "      <td>...</td>\n",
       "      <td>0</td>\n",
       "      <td>0</td>\n",
       "      <td>0</td>\n",
       "      <td>5116924</td>\n",
       "      <td>9</td>\n",
       "      <td>0</td>\n",
       "      <td>0</td>\n",
       "      <td>0</td>\n",
       "      <td>false</td>\n",
       "      <td>0</td>\n",
       "    </tr>\n",
       "    <tr>\n",
       "      <th>4</th>\n",
       "      <td>14878</td>\n",
       "      <td>1.0</td>\n",
       "      <td>1.0</td>\n",
       "      <td>1.0</td>\n",
       "      <td>-11794.0</td>\n",
       "      <td>-1720.0</td>\n",
       "      <td>1.0</td>\n",
       "      <td>2</td>\n",
       "      <td>-17.0</td>\n",
       "      <td>0.0</td>\n",
       "      <td>...</td>\n",
       "      <td>0</td>\n",
       "      <td>0</td>\n",
       "      <td>0</td>\n",
       "      <td>5061467</td>\n",
       "      <td>9</td>\n",
       "      <td>1</td>\n",
       "      <td>1</td>\n",
       "      <td>0</td>\n",
       "      <td>false</td>\n",
       "      <td>0</td>\n",
       "    </tr>\n",
       "  </tbody>\n",
       "</table>\n",
       "<p>5 rows × 48 columns</p>\n",
       "</div>"
      ],
      "text/plain": [
       "   int64_field_0  gender  car  reality  days_birth  days_employed  flag_mobil  \\\n",
       "0          22935     0.0  0.0      1.0    -21532.0        -4630.0         1.0   \n",
       "1          22934     0.0  0.0      1.0    -21532.0        -4630.0         1.0   \n",
       "2          22933     0.0  0.0      1.0    -21532.0        -4630.0         1.0   \n",
       "3          28983     0.0  0.0      0.0    -11792.0         -126.0         1.0   \n",
       "4          14878     1.0  1.0      1.0    -11794.0        -1720.0         1.0   \n",
       "\n",
       "   famsize  begin_month  chldno_1  ...  famtp_separated  \\\n",
       "0        1        -57.0       0.0  ...                0   \n",
       "1        1        -45.0       0.0  ...                0   \n",
       "2        1        -57.0       0.0  ...                0   \n",
       "3        3        -40.0       1.0  ...                0   \n",
       "4        2        -17.0       0.0  ...                0   \n",
       "\n",
       "   famtp_singlenotmarried  famtp_widow       id  inc  wkphone  phone  email  \\\n",
       "0                       1            0  5094890    9        0      0      0   \n",
       "1                       1            0  5094889    9        0      0      0   \n",
       "2                       1            0  5094888    9        0      0      0   \n",
       "3                       0            0  5116924    9        0      0      0   \n",
       "4                       0            0  5061467    9        1      1      0   \n",
       "\n",
       "   dep_value  target  \n",
       "0      false       0  \n",
       "1      false       0  \n",
       "2      false       0  \n",
       "3      false       0  \n",
       "4      false       0  \n",
       "\n",
       "[5 rows x 48 columns]"
      ]
     },
     "metadata": {},
     "execution_count": 34
    }
   ],
   "metadata": {}
  },
  {
   "cell_type": "code",
   "execution_count": 28,
   "source": [
    "create_feature_requests = []\n",
    "feature_specs = []\n",
    "\n",
    "mapping = {\n",
    "    \"float64\": feature_pb2.Feature.ValueType.DOUBLE,\n",
    "    \"uint8\": feature_pb2.Feature.ValueType.INT64,\n",
    "    \"int64\": feature_pb2.Feature.ValueType.INT64,\n",
    "    \"object\": feature_pb2.Feature.ValueType.STRING\n",
    "}\n",
    "\n",
    "feature_pb2.Feature.ValueType.INT\n",
    "\n",
    "columns = df.columns.tolist()\n",
    "dtypes_list = df.dtypes.tolist()\n",
    "for i, types in enumerate(dtypes_list):\n",
    "    if columns[i] in IGNORE_COLUMNS_INGESTION:\n",
    "        continue\n",
    "    create_feature_requests.append(\n",
    "        featurestore_service_pb2.CreateFeatureRequest(\n",
    "            feature=feature_pb2.Feature(\n",
    "                value_type=mapping[str(types)],\n",
    "                description=columns[i]          \n",
    "            ),\n",
    "            parent=admin_client.entity_type_path(PROJECT_ID, REGION, FEATURESTORE_ID, ENTITY_TYPE_ID),\n",
    "            feature_id=re.sub(r'[\\W]+', '', columns[i]).lower(),\n",
    "        )\n",
    "    )\n",
    "    feature_specs.append(\n",
    "        featurestore_service_pb2.ImportFeatureValuesRequest.FeatureSpec(id=re.sub(r'[\\W]+', '', columns[i]).lower())\n",
    "    )\n",
    "\n",
    "  "
   ],
   "outputs": [],
   "metadata": {}
  },
  {
   "cell_type": "code",
   "execution_count": 29,
   "source": [
    "for request in create_feature_requests:\n",
    "    try:\n",
    "        print(admin_client.create_feature(request).result())\n",
    "    except AlreadyExists as e:\n",
    "        print(e)  "
   ],
   "outputs": [
    {
     "output_type": "stream",
     "name": "stdout",
     "text": [
      "name: \"projects/203258207752/locations/us-central1/featurestores/mlops_e2e_20210917123714/entityTypes/users/features/gender\"\n",
      "etag: \"AMEw9yOwngTypc4nFLDcuf8S9okBdjJH8pzpbeEXF99KK3naoy6i\"\n",
      "\n",
      "name: \"projects/203258207752/locations/us-central1/featurestores/mlops_e2e_20210917123714/entityTypes/users/features/car\"\n",
      "etag: \"AMEw9yPl6K2HxIDey5TukQ8EhPlwVrOdakJvrUZO2CU9rWugHSkQ\"\n",
      "\n",
      "name: \"projects/203258207752/locations/us-central1/featurestores/mlops_e2e_20210917123714/entityTypes/users/features/reality\"\n",
      "etag: \"AMEw9yOncuRs5wz4lOwchpYKiOOLxiF7i-7E8Ti8qwemP-B0LSeJ\"\n",
      "\n",
      "name: \"projects/203258207752/locations/us-central1/featurestores/mlops_e2e_20210917123714/entityTypes/users/features/days_birth\"\n",
      "etag: \"AMEw9yP_W4SDSMUc6VqWb7dYa8uhRSCO9QmjMesmNQcPjaNrFWZT\"\n",
      "\n",
      "name: \"projects/203258207752/locations/us-central1/featurestores/mlops_e2e_20210917123714/entityTypes/users/features/days_employed\"\n",
      "etag: \"AMEw9yMErcxgIuHCBYCdvw724IBn5uH8eobgSuoEaiOHnv-5eu6T\"\n",
      "\n",
      "name: \"projects/203258207752/locations/us-central1/featurestores/mlops_e2e_20210917123714/entityTypes/users/features/flag_mobil\"\n",
      "etag: \"AMEw9yMxy-5yeCpBQmkEzGv3v9_j34sZNHSlpBUjbOHKQNSLuxOw\"\n",
      "\n",
      "name: \"projects/203258207752/locations/us-central1/featurestores/mlops_e2e_20210917123714/entityTypes/users/features/famsize\"\n",
      "etag: \"AMEw9yNduv0RwmNSqTojoiY_oMIe7pDG8Qt1WJJNXe93Cd4prdw0\"\n",
      "\n",
      "name: \"projects/203258207752/locations/us-central1/featurestores/mlops_e2e_20210917123714/entityTypes/users/features/begin_month\"\n",
      "etag: \"AMEw9yMffo0sUSCteAht_c5TlHXMRH4sxoCcpBin1puT1wrkcsul\"\n",
      "\n",
      "name: \"projects/203258207752/locations/us-central1/featurestores/mlops_e2e_20210917123714/entityTypes/users/features/chldno_1\"\n",
      "etag: \"AMEw9yMTBsEm3959WWfZt0dxgNi_ZZ9gnm9gP1wRMfDkckXAeqAP\"\n",
      "\n",
      "name: \"projects/203258207752/locations/us-central1/featurestores/mlops_e2e_20210917123714/entityTypes/users/features/chldno_2more\"\n",
      "etag: \"AMEw9yOlmfmlzm1ciHQZutR5LKw5xwwTPtwFQSBJfKajxj-b8CeJ\"\n",
      "\n",
      "name: \"projects/203258207752/locations/us-central1/featurestores/mlops_e2e_20210917123714/entityTypes/users/features/gp_inc_high\"\n",
      "etag: \"AMEw9yP8mOB1B8Qlz8AwYageZgDx1W0k9RcwzEyaCqkK3rGmBCTe\"\n",
      "\n",
      "name: \"projects/203258207752/locations/us-central1/featurestores/mlops_e2e_20210917123714/entityTypes/users/features/gp_inc_medium\"\n",
      "etag: \"AMEw9yO7FZs9Z2C3fblH8hoUxPHvHNZ3DSoWlBSuQw_gi61t6CQN\"\n",
      "\n",
      "name: \"projects/203258207752/locations/us-central1/featurestores/mlops_e2e_20210917123714/entityTypes/users/features/age\"\n",
      "etag: \"AMEw9yNoN_2MguxcfOKyUrq8xGeRGYDXhJ2E1VtOIGeUpm_7qUc5\"\n",
      "\n",
      "name: \"projects/203258207752/locations/us-central1/featurestores/mlops_e2e_20210917123714/entityTypes/users/features/gp_age_high\"\n",
      "etag: \"AMEw9yNEAjx8oqCOOoKXaYOSCDJaME5XEiRS6kjcxfIYoC71gn-N\"\n",
      "\n",
      "name: \"projects/203258207752/locations/us-central1/featurestores/mlops_e2e_20210917123714/entityTypes/users/features/gp_age_highest\"\n",
      "etag: \"AMEw9yPV2MUZag23dKzuX8OZW3tbpeY8M_br0fjYWvqIU4mGR9Zq\"\n",
      "\n",
      "name: \"projects/203258207752/locations/us-central1/featurestores/mlops_e2e_20210917123714/entityTypes/users/features/gp_age_low\"\n",
      "etag: \"AMEw9yPVzY9z99rt4lhsXFH0UpnkoI4-gxh3R8hRqqzGP7pXhnAd\"\n",
      "\n",
      "name: \"projects/203258207752/locations/us-central1/featurestores/mlops_e2e_20210917123714/entityTypes/users/features/gp_age_lowest\"\n",
      "etag: \"AMEw9yMPkije4xcR5ztLXUzOssxn2xigfjHoyDA_v8Xm0_P4KFOH\"\n",
      "\n",
      "name: \"projects/203258207752/locations/us-central1/featurestores/mlops_e2e_20210917123714/entityTypes/users/features/worktm\"\n",
      "etag: \"AMEw9yPJNp5VY9pd1ZlUBTAPmjmlKKTBsj_JBUEMlF-Dp1p2pzKh\"\n",
      "\n",
      "name: \"projects/203258207752/locations/us-central1/featurestores/mlops_e2e_20210917123714/entityTypes/users/features/gp_worktm_high\"\n",
      "etag: \"AMEw9yNo36kAAIwCdydGAa2U4piJ_rfliofRntDg6RNFiDUqYWqQ\"\n",
      "\n",
      "name: \"projects/203258207752/locations/us-central1/featurestores/mlops_e2e_20210917123714/entityTypes/users/features/gp_worktm_highest\"\n",
      "etag: \"AMEw9yMfWSPXX5LpcPiiqMBv5qBJovmETTkYWygrxIDCe1qTMnyA\"\n",
      "\n",
      "name: \"projects/203258207752/locations/us-central1/featurestores/mlops_e2e_20210917123714/entityTypes/users/features/gp_worktm_low\"\n",
      "etag: \"AMEw9yOLmUH9W9VcrtzeU2Gp3F7A43ZYMiKIcx03IArrDlBdbhV4\"\n",
      "\n",
      "name: \"projects/203258207752/locations/us-central1/featurestores/mlops_e2e_20210917123714/entityTypes/users/features/gp_worktm_medium\"\n",
      "etag: \"AMEw9yPfwBosp2u9YzEIkYC5Y0UUIcTUdegdfEOQtD6K6ksMHzRW\"\n",
      "\n",
      "name: \"projects/203258207752/locations/us-central1/featurestores/mlops_e2e_20210917123714/entityTypes/users/features/famsizegp_1\"\n",
      "etag: \"AMEw9yPGDKipc3uuJJyhLnxXCU3m97vV-3eIIq3ShXc9a9OuVxii\"\n",
      "\n",
      "name: \"projects/203258207752/locations/us-central1/featurestores/mlops_e2e_20210917123714/entityTypes/users/features/famsizegp_3more\"\n",
      "etag: \"AMEw9yPEIyYC0YQeUdM7dYQKcU30r_rViu-UaoH5GrB_SZDWVbOG\"\n",
      "\n",
      "name: \"projects/203258207752/locations/us-central1/featurestores/mlops_e2e_20210917123714/entityTypes/users/features/inctp_commercialassociate\"\n",
      "etag: \"AMEw9yMyh0xwP7n9C7XBr9G2oHzsNkyn4aCvbt-L1XQD1XeGxr2b\"\n",
      "\n",
      "name: \"projects/203258207752/locations/us-central1/featurestores/mlops_e2e_20210917123714/entityTypes/users/features/inctp_stateservant\"\n",
      "etag: \"AMEw9yM1PLJTL2rD923CbLrjMT8l88mddHcjDAVmnYqJMDwEedsi\"\n",
      "\n",
      "name: \"projects/203258207752/locations/us-central1/featurestores/mlops_e2e_20210917123714/entityTypes/users/features/occyp_hightecwk\"\n",
      "etag: \"AMEw9yPpmdS_nBKHEUOBGbitSL2hbvfU3XV6ssWXMtRb0QOjImpr\"\n",
      "\n",
      "name: \"projects/203258207752/locations/us-central1/featurestores/mlops_e2e_20210917123714/entityTypes/users/features/occyp_officewk\"\n",
      "etag: \"AMEw9yMmOBT1ICf-RZXLIPxWl1UKhEllmHg09Q5XVq9tsei8MsAf\"\n",
      "\n",
      "name: \"projects/203258207752/locations/us-central1/featurestores/mlops_e2e_20210917123714/entityTypes/users/features/houtp_coopapartment\"\n",
      "etag: \"AMEw9yOP-zzWd7fDZtfOY8GVpAJLFQHSzMeqkc9Ehn1TAvFAHkmJ\"\n",
      "\n",
      "name: \"projects/203258207752/locations/us-central1/featurestores/mlops_e2e_20210917123714/entityTypes/users/features/houtp_municipalapartment\"\n",
      "etag: \"AMEw9yPbPPge-ssapjXxXFeCmVcgmL-G2kKH_J0OUegAIkPpWhT5\"\n",
      "\n",
      "name: \"projects/203258207752/locations/us-central1/featurestores/mlops_e2e_20210917123714/entityTypes/users/features/houtp_officeapartment\"\n",
      "etag: \"AMEw9yOt1jdfV1YBOOj2j0f3vB6mOPdXmYu623Rv0-J3pDXtDAzH\"\n",
      "\n",
      "name: \"projects/203258207752/locations/us-central1/featurestores/mlops_e2e_20210917123714/entityTypes/users/features/houtp_rentedapartment\"\n",
      "etag: \"AMEw9yPSy2A6os7axHA20YP8TtoOKU4D8WWVpVno-qHUPzob_GKc\"\n",
      "\n",
      "name: \"projects/203258207752/locations/us-central1/featurestores/mlops_e2e_20210917123714/entityTypes/users/features/houtp_withparents\"\n",
      "etag: \"AMEw9yOw0utl1xBbx1_DUiNXtvKltWVuo3MB7Ek4_vf4RAmToDVf\"\n",
      "\n",
      "name: \"projects/203258207752/locations/us-central1/featurestores/mlops_e2e_20210917123714/entityTypes/users/features/edutp_highereducation\"\n",
      "etag: \"AMEw9yMMhjXMVfRrnzKwk-zcH6oRwtCZC1eBn-UctH9eiRyjOM7X\"\n",
      "\n",
      "name: \"projects/203258207752/locations/us-central1/featurestores/mlops_e2e_20210917123714/entityTypes/users/features/edutp_incompletehigher\"\n",
      "etag: \"AMEw9yPBgmQ9kp_uyGBPtZFYSbEL2qe69LjNl9emPzlScaJgwUjQ\"\n",
      "\n",
      "name: \"projects/203258207752/locations/us-central1/featurestores/mlops_e2e_20210917123714/entityTypes/users/features/edutp_lowersecondary\"\n",
      "etag: \"AMEw9yN1jkpTrx5d1L3x0Ekz5V1NoKJT4iMmTDZSVXz_9Uh7Alx2\"\n",
      "\n",
      "name: \"projects/203258207752/locations/us-central1/featurestores/mlops_e2e_20210917123714/entityTypes/users/features/famtp_civilmarriage\"\n",
      "etag: \"AMEw9yOb72nxACoqLLiXOScUXz3l_O6cImruSWuOcumueqTM1pSa\"\n",
      "\n",
      "name: \"projects/203258207752/locations/us-central1/featurestores/mlops_e2e_20210917123714/entityTypes/users/features/famtp_separated\"\n",
      "etag: \"AMEw9yNUC-BbbuG7-G1TY3M4qIk7En7RrZcgU_yJ07XNIXNBmLmw\"\n",
      "\n",
      "name: \"projects/203258207752/locations/us-central1/featurestores/mlops_e2e_20210917123714/entityTypes/users/features/famtp_singlenotmarried\"\n",
      "etag: \"AMEw9yPDaUJ4Dh3JCJAQiPtgKxMoOe5X-M6dN39uvG8gIvc4qeTy\"\n",
      "\n",
      "name: \"projects/203258207752/locations/us-central1/featurestores/mlops_e2e_20210917123714/entityTypes/users/features/famtp_widow\"\n",
      "etag: \"AMEw9yMsQQq0ydEc0asaU87VU7b2NCrJdvDsP7UeemslrYkM3aQC\"\n",
      "\n",
      "name: \"projects/203258207752/locations/us-central1/featurestores/mlops_e2e_20210917123714/entityTypes/users/features/inc\"\n",
      "etag: \"AMEw9yOczVjjU9rAOcAH0dUNI9IdJ1N_4-UdVA4wlNoVlxqfwutE\"\n",
      "\n",
      "name: \"projects/203258207752/locations/us-central1/featurestores/mlops_e2e_20210917123714/entityTypes/users/features/wkphone\"\n",
      "etag: \"AMEw9yOI8nR12dZaunSgeLY-_PcC0fP8ZSnZllITPz3_6HZfVG-m\"\n",
      "\n",
      "name: \"projects/203258207752/locations/us-central1/featurestores/mlops_e2e_20210917123714/entityTypes/users/features/phone\"\n",
      "etag: \"AMEw9yNViWGgKqdp1O4G6v6XBZcS8I8Xu5gHV8a_cabYqh_P5lRn\"\n",
      "\n",
      "name: \"projects/203258207752/locations/us-central1/featurestores/mlops_e2e_20210917123714/entityTypes/users/features/email\"\n",
      "etag: \"AMEw9yOX6BvEoohJXEtKENggJ7DT3alqqg-5w7Aw6VG8CN7ZX3P5\"\n",
      "\n",
      "name: \"projects/203258207752/locations/us-central1/featurestores/mlops_e2e_20210917123714/entityTypes/users/features/dep_value\"\n",
      "etag: \"AMEw9yP7zAIXIQ7tZmWnKVMpif6rAQMyUT2EmYiphUzLkXpvZGpk\"\n",
      "\n",
      "name: \"projects/203258207752/locations/us-central1/featurestores/mlops_e2e_20210917123714/entityTypes/users/features/target\"\n",
      "etag: \"AMEw9yMqPvaka3ZfAFMhNpYyryaTpXyJr0riyOdo0qDbwkuSvL6f\"\n",
      "\n"
     ]
    }
   ],
   "metadata": {
    "scrolled": true
   }
  },
  {
   "cell_type": "code",
   "execution_count": 30,
   "source": [
    "now = time.time()\n",
    "seconds = int(now)\n",
    "nanos = int((now - seconds) * 10**9)\n",
    "timestamp = Timestamp(seconds=seconds)"
   ],
   "outputs": [],
   "metadata": {}
  },
  {
   "cell_type": "code",
   "execution_count": 31,
   "source": [
    "import_request = featurestore_service_pb2.ImportFeatureValuesRequest(\n",
    "    entity_type=admin_client.entity_type_path(PROJECT_ID, REGION, FEATURESTORE_ID, ENTITY_TYPE_ID),\n",
    "    bigquery_source=io_pb2.BigQuerySource(input_uri=BIGQUERY_SOURCE),\n",
    "    entity_id_field=ID_COLUMN,\n",
    "    feature_specs=feature_specs,\n",
    "    feature_time=timestamp,\n",
    "    worker_count=IMPORT_WORKER_COUNT,\n",
    ")\n",
    "# Start to import, will take a couple of minutes\n",
    "ingestion_lro = admin_client.import_feature_values(import_request)"
   ],
   "outputs": [],
   "metadata": {}
  },
  {
   "cell_type": "code",
   "execution_count": 32,
   "source": [
    "# Polls for the LRO status and prints when the LRO has completed\n",
    "ingestion_lro.result()"
   ],
   "outputs": [
    {
     "output_type": "execute_result",
     "data": {
      "text/plain": [
       "imported_entity_count: 25134\n",
       "imported_feature_value_count: 1156164"
      ]
     },
     "metadata": {},
     "execution_count": 32
    }
   ],
   "metadata": {}
  },
  {
   "cell_type": "code",
   "execution_count": 33,
   "source": [
    "list(admin_client.list_featurestores(\n",
    "    parent=admin_client.common_location_path(PROJECT_ID, REGION)))"
   ],
   "outputs": [
    {
     "output_type": "execute_result",
     "data": {
      "text/plain": [
       "[name: \"projects/203258207752/locations/us-central1/featurestores/mlops_e2e_20210917123714\"\n",
       " create_time {\n",
       "   seconds: 1631882268\n",
       "   nanos: 470732000\n",
       " }\n",
       " update_time {\n",
       "   seconds: 1631882268\n",
       "   nanos: 561040000\n",
       " }\n",
       " etag: \"AMEw9yNSi0qmv4Mrro34GjPY7G3OvhradbrZoG1RIdD68kBkNjrWpZXULqFDQhW079Rc\"\n",
       " online_serving_config {\n",
       "   fixed_node_count: 1\n",
       " }\n",
       " state: STABLE]"
      ]
     },
     "metadata": {},
     "execution_count": 33
    }
   ],
   "metadata": {}
  },
  {
   "cell_type": "code",
   "execution_count": 25,
   "source": [
    "from google.protobuf import field_mask_pb2\n",
    "\n",
    "FEATURESTORE_ID = \"mlops_e2e_20210917123714\"\n",
    "featurestore = admin_client.get_featurestore(\n",
    "    name=admin_client.featurestore_path(PROJECT_ID, REGION, FEATURESTORE_ID)\n",
    ")\n",
    "featurestore.online_serving_config.fixed_node_count = 1\n",
    "update_lro = admin_client.update_featurestore(\n",
    "    featurestore = featurestore,\n",
    "    update_mask=field_mask_pb2.FieldMask(paths=[\"online_serving_config.fixed_node_count\"]))"
   ],
   "outputs": [],
   "metadata": {}
  },
  {
   "cell_type": "code",
   "execution_count": 10,
   "source": [
    "FEATURE_STORE_ID = \"mlops_e2e_20210917123714\"\n",
    "featurestore = admin_client.get_featurestore(\n",
    "    name=admin_client.featurestore_path(PROJECT_ID, REGION, FEATURE_STORE_ID)\n",
    ")"
   ],
   "outputs": [],
   "metadata": {}
  },
  {
   "cell_type": "code",
   "execution_count": 36,
   "source": [
    "# Fetch the following 3 features.\n",
    "feature_selector = FeatureSelector(\n",
    "    id_matcher=IdMatcher(ids=[\"age\", \"car\"])\n",
    ")\n",
    "\n",
    "data_client.read_feature_values(\n",
    "    featurestore_online_service_pb2.ReadFeatureValuesRequest(\n",
    "        # Fetch from the following feature store/entity type\n",
    "        entity_type=admin_client.entity_type_path(\n",
    "            PROJECT_ID, REGION, FEATURESTORE_ID, \"users\"\n",
    "        ),\n",
    "        # Fetch the user features whose ID is \"alice\"\n",
    "        entity_id=\"5094890\",\n",
    "        feature_selector=feature_selector,\n",
    "    )\n",
    ")"
   ],
   "outputs": [
    {
     "output_type": "execute_result",
     "data": {
      "text/plain": [
       "header {\n",
       "  entity_type: \"projects/203258207752/locations/us-central1/featurestores/mlops_e2e_20210917123714/entityTypes/users\"\n",
       "  feature_descriptors {\n",
       "    id: \"age\"\n",
       "  }\n",
       "  feature_descriptors {\n",
       "    id: \"car\"\n",
       "  }\n",
       "}\n",
       "entity_view {\n",
       "  entity_id: \"5094890\"\n",
       "  data {\n",
       "    value {\n",
       "      double_value: 58.0\n",
       "      metadata {\n",
       "        generate_time {\n",
       "          seconds: 1631882438\n",
       "        }\n",
       "      }\n",
       "    }\n",
       "  }\n",
       "  data {\n",
       "    value {\n",
       "      double_value: 0.0\n",
       "      metadata {\n",
       "        generate_time {\n",
       "          seconds: 1631882438\n",
       "        }\n",
       "      }\n",
       "    }\n",
       "  }\n",
       "}"
      ]
     },
     "metadata": {},
     "execution_count": 36
    }
   ],
   "metadata": {}
  },
  {
   "cell_type": "code",
   "execution_count": 37,
   "source": [
    "admin_client.search_features(featurestore_service_pb2.SearchFeaturesRequest(location=BASE_RESOURCE_PATH, query=\"feature_id=age\"))"
   ],
   "outputs": [
    {
     "output_type": "execute_result",
     "data": {
      "text/plain": [
       "SearchFeaturesPager<features {\n",
       "  name: \"projects/203258207752/locations/us-central1/featurestores/mlops_e2e_20210917123714/entityTypes/users/features/age\"\n",
       "  description: \"age\"\n",
       "  create_time {\n",
       "    seconds: 1631882372\n",
       "    nanos: 339132000\n",
       "  }\n",
       "  update_time {\n",
       "    seconds: 1631885042\n",
       "    nanos: 606486000\n",
       "  }\n",
       "}\n",
       ">"
      ]
     },
     "metadata": {},
     "execution_count": 37
    }
   ],
   "metadata": {}
  },
  {
   "cell_type": "code",
   "execution_count": 38,
   "source": [
    "admin_client.search_features(featurestore_service_pb2.SearchFeaturesRequest(location=BASE_RESOURCE_PATH, query=\"description=age\"))"
   ],
   "outputs": [
    {
     "output_type": "execute_result",
     "data": {
      "text/plain": [
       "SearchFeaturesPager<features {\n",
       "  name: \"projects/203258207752/locations/us-central1/featurestores/mlops_e2e_20210917123714/entityTypes/users/features/age\"\n",
       "  description: \"age\"\n",
       "  create_time {\n",
       "    seconds: 1631882372\n",
       "    nanos: 339132000\n",
       "  }\n",
       "  update_time {\n",
       "    seconds: 1631885042\n",
       "    nanos: 606486000\n",
       "  }\n",
       "}\n",
       ">"
      ]
     },
     "metadata": {},
     "execution_count": 38
    }
   ],
   "metadata": {}
  },
  {
   "cell_type": "code",
   "execution_count": 41,
   "source": [
    "FEATURE_STORE_ID = \"mlops_e2e_20210917123714\""
   ],
   "outputs": [],
   "metadata": {}
  },
  {
   "cell_type": "code",
   "execution_count": 42,
   "source": [
    "admin_client.delete_featurestore(featurestore_service_pb2.DeleteFeaturestoreRequest(name=admin_client.featurestore_path(PROJECT_ID, REGION, FEATURE_STORE_ID), force=True))"
   ],
   "outputs": [
    {
     "output_type": "execute_result",
     "data": {
      "text/plain": [
       "<google.api_core.operation.Operation at 0x7f843a575750>"
      ]
     },
     "metadata": {},
     "execution_count": 42
    }
   ],
   "metadata": {}
  },
  {
   "cell_type": "code",
   "execution_count": null,
   "source": [],
   "outputs": [],
   "metadata": {}
  }
 ],
 "metadata": {
  "environment": {
   "name": "managed-notebooks.m69",
   "type": "gcloud",
   "uri": "gcr.io/deeplearning-platform-release/managed-notebooks:m69"
  },
  "kernelspec": {
   "display_name": "Python",
   "language": "python",
   "name": "base"
  },
  "language_info": {
   "codemirror_mode": {
    "name": "ipython",
    "version": 3
   },
   "file_extension": ".py",
   "mimetype": "text/x-python",
   "name": "python",
   "nbconvert_exporter": "python",
   "pygments_lexer": "ipython3",
   "version": "3.7.10"
  }
 },
 "nbformat": 4,
 "nbformat_minor": 5
}