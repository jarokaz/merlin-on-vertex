{
 "cells": [
  {
   "cell_type": "markdown",
   "metadata": {},
   "source": [
    "# Convert CSV to Parquet"
   ]
  },
  {
   "cell_type": "code",
   "execution_count": null,
   "metadata": {},
   "outputs": [],
   "source": [
    "def convert_csv_to_parquet_op(\n",
    "    train_paths: list,\n",
    "    valid_paths: list,\n",
    "    output_converted: str,\n",
    "    sep: str,\n",
    "    shuffle = None,\n",
    "    recursive = False\n",
    "):\n",
    "    # Standard Libraries\n",
    "    import logging\n",
    "    import os\n",
    "\n",
    "    # ETL library\n",
    "    import etl\n",
    "\n",
    "    logging.basicConfig(level=logging.INFO)\n",
    "\n",
    "    logging.info('Getting column names and dtypes')\n",
    "    col_dtypes = etl.get_criteo_col_dtypes()\n",
    "\n",
    "    logging.info('Creating a Dask CUDA cluster')\n",
    "    client = etl.create_convert_cluster()\n",
    "\n",
    "    for folder_name, data_paths in zip(\n",
    "        ['train', 'valid'], \n",
    "        [train_paths, valid_paths]\n",
    "    ):\n",
    "        logging.info(f'Creating {folder_name} dataset.')\n",
    "        dataset = etl.create_csv_dataset(\n",
    "            data_paths=data_paths,\n",
    "            sep=sep,\n",
    "            recursive=recursive, \n",
    "            col_dtypes=col_dtypes, \n",
    "            client=client\n",
    "        )\n",
    "\n",
    "        fuse_output_path = os.path.join('/gcs', output_converted, folder_name)\n",
    "        logging.info(f'Writing parquet file(s) to {fuse_output_path}')\n",
    "        etl.convert_csv_to_parquet(fuse_output_path, dataset, shuffle)\n",
    "\n",
    "        # Write output path to metadata\n",
    "        print(os.path.join('gs://', output_converted, folder_name))"
   ]
  },
  {
   "cell_type": "code",
   "execution_count": null,
   "metadata": {},
   "outputs": [],
   "source": [
    "train_paths = ['gs://workshop-datasets/criteo/day_0'] # Sample training CSV file to be converted to parquet\n",
    "valid_paths = ['gs://workshop-datasets/criteo/day_1'] # Sample validation CSV file to be converted to parquet\n",
    "sep = '\\t' # Separator for the CSV file\n",
    "recursive = False # If the train/valid paths should be navigated recursivelly\n",
    "output_converted = 'renatoleite-criteo-partial/converted'"
   ]
  },
  {
   "cell_type": "code",
   "execution_count": null,
   "metadata": {},
   "outputs": [],
   "source": [
    "convert_csv_to_parquet_op(train_paths, valid_paths, output_converted, sep)"
   ]
  },
  {
   "cell_type": "markdown",
   "metadata": {},
   "source": [
    "# Fit and transform 1 file from Criteo Dataset"
   ]
  },
  {
   "cell_type": "code",
   "execution_count": 1,
   "metadata": {},
   "outputs": [],
   "source": [
    "def analyze_dataset_op(\n",
    "    datasets,\n",
    "    workflow_path,\n",
    "    split_name = 'train',\n",
    "    device_limit_frac = 0.8,\n",
    "    device_pool_frac = 0.9,\n",
    "    part_mem_frac = 0.125\n",
    "):\n",
    "    from preprocessing import etl\n",
    "    import logging\n",
    "    import os\n",
    "\n",
    "    logging.basicConfig(level=logging.INFO)\n",
    "\n",
    "    # Retrieve `split_name` from metadata\n",
    "    data_path = datasets[split_name]\n",
    "\n",
    "    # Create data transformation workflow. This step will only \n",
    "    # calculate statistics based on the transformations\n",
    "    criteo_workflow = etl.create_criteo_nvt_workflow()    \n",
    "\n",
    "    # Create Dask cluster\n",
    "    client = etl.create_transform_cluster(device_limit_frac, device_pool_frac)\n",
    "\n",
    "    # Create dataset to be fitted\n",
    "    dataset = etl.create_parquet_dataset(\n",
    "        data_path=data_path,\n",
    "        part_mem_frac=part_mem_frac,\n",
    "        client=client\n",
    "    )\n",
    "\n",
    "    logging.info('Starting workflow fitting')\n",
    "    criteo_workflow = etl.analyze_dataset(criteo_workflow, dataset)\n",
    "    logging.info('Finished generating statistics for dataset.')\n",
    "\n",
    "    etl.save_workflow(criteo_workflow, os.path.join('/gcs', workflow_path))\n",
    "    logging.info('Workflow saved to GCS')\n",
    "\n",
    "    workflow = {}\n",
    "    workflow['workflow'] = os.path.join('/gcs', workflow_path)\n",
    "    workflow['datasets'] = datasets\n",
    "\n",
    "    print(workflow)"
   ]
  },
  {
   "cell_type": "code",
   "execution_count": 2,
   "metadata": {},
   "outputs": [],
   "source": [
    "datasets = {}\n",
    "datasets['train'] = 'gs://renatoleite-criteo-partial/converted/train'\n",
    "datasets['valid'] = 'gs://renatoleite-criteo-partial/converted/valid'\n",
    "workflow_path = 'renatoleite-criteo-partial/workflow'"
   ]
  },
  {
   "cell_type": "code",
   "execution_count": null,
   "metadata": {},
   "outputs": [],
   "source": [
    "analyze_dataset_op(datasets, workflow_path)"
   ]
  },
  {
   "cell_type": "code",
   "execution_count": null,
   "metadata": {},
   "outputs": [],
   "source": []
  }
 ],
 "metadata": {
  "interpreter": {
   "hash": "5bbfc72977e2edb300a57a5c46cd20dbb290577e70187a6c410befe50f35f88b"
  },
  "kernelspec": {
   "display_name": "Python 3.8.12 64-bit ('nvt-conda-070': conda)",
   "name": "python3"
  },
  "language_info": {
   "codemirror_mode": {
    "name": "ipython",
    "version": 3
   },
   "file_extension": ".py",
   "mimetype": "text/x-python",
   "name": "python",
   "nbconvert_exporter": "python",
   "pygments_lexer": "ipython3",
   "version": "3.8.12"
  },
  "orig_nbformat": 4
 },
 "nbformat": 4,
 "nbformat_minor": 2
}
