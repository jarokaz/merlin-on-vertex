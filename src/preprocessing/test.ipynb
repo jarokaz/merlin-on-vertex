{
 "cells": [
  {
   "cell_type": "markdown",
   "metadata": {},
   "source": [
    "# Convert CSV to Parquet"
   ]
  },
  {
   "cell_type": "code",
   "execution_count": null,
   "metadata": {},
   "outputs": [],
   "source": [
    "def convert_csv_to_parquet_op(\n",
    "    train_paths: list,\n",
    "    valid_paths: list,\n",
    "    output_converted: str,\n",
    "    sep: str,\n",
    "    shuffle = None,\n",
    "    recursive = False\n",
    "):\n",
    "    # Standard Libraries\n",
    "    import logging\n",
    "    import os\n",
    "\n",
    "    # ETL library\n",
    "    import etl\n",
    "\n",
    "    logging.basicConfig(level=logging.INFO)\n",
    "\n",
    "    logging.info('Getting column names and dtypes')\n",
    "    col_dtypes = etl.get_criteo_col_dtypes()\n",
    "\n",
    "    logging.info('Creating a Dask CUDA cluster')\n",
    "    client = etl.create_convert_cluster()\n",
    "\n",
    "    for folder_name, data_paths in zip(\n",
    "        ['train', 'valid'],\n",
    "        [train_paths, valid_paths]\n",
    "    ):\n",
    "        logging.info(f'Creating {folder_name} dataset.')\n",
    "        dataset = etl.create_csv_dataset(\n",
    "            data_paths=data_paths,\n",
    "            sep=sep,\n",
    "            recursive=recursive, \n",
    "            col_dtypes=col_dtypes, \n",
    "            client=client\n",
    "        )\n",
    "\n",
    "        fuse_output_path = os.path.join('/gcs', output_converted, folder_name)\n",
    "        logging.info(f'Writing parquet file(s) to {fuse_output_path}')\n",
    "        etl.convert_csv_to_parquet(fuse_output_path, dataset, shuffle)\n",
    "\n",
    "        # Write output path to metadata\n",
    "        print(os.path.join('gs://', output_converted, folder_name))"
   ]
  },
  {
   "cell_type": "code",
   "execution_count": null,
   "metadata": {},
   "outputs": [],
   "source": [
    "train_paths = ['gs://workshop-datasets/criteo/day_0'] # Sample training CSV file to be converted to parquet\n",
    "valid_paths = ['gs://workshop-datasets/criteo/day_1'] # Sample validation CSV file to be converted to parquet\n",
    "sep = '\\t' # Separator for the CSV file\n",
    "recursive = False # If the train/valid paths should be navigated recursivelly\n",
    "output_converted = 'renatoleite-criteo-partial/converted'"
   ]
  },
  {
   "cell_type": "code",
   "execution_count": null,
   "metadata": {},
   "outputs": [],
   "source": [
    "convert_csv_to_parquet_op(train_paths, valid_paths, output_converted, sep)"
   ]
  },
  {
   "cell_type": "markdown",
   "metadata": {},
   "source": [
    "# Fit and transform 1 file from Criteo Dataset"
   ]
  },
  {
   "cell_type": "code",
   "execution_count": 1,
   "metadata": {},
   "outputs": [],
   "source": [
    "def analyze_dataset_op(\n",
    "    datasets,\n",
    "    workflow_path,\n",
    "    split_name = 'train',\n",
    "    device_limit_frac = 0.8,\n",
    "    device_pool_frac = 0.9,\n",
    "    part_mem_frac = 0.125\n",
    "):\n",
    "    from preprocessing import etl\n",
    "    import logging\n",
    "    import os\n",
    "\n",
    "    logging.basicConfig(level=logging.INFO)\n",
    "    workflow = {}\n",
    "\n",
    "    # Retrieve `split_name` from metadata\n",
    "    data_path = datasets[split_name]\n",
    "\n",
    "    # Create Dask cluster\n",
    "    logging.info('Creating Dask cluster.')\n",
    "    client = etl.create_transform_cluster(device_limit_frac, device_pool_frac)\n",
    "\n",
    "    # Create data transformation workflow. This step will only \n",
    "    # calculate statistics based on the transformations\n",
    "    logging.info('Creating transformation workflow.')\n",
    "    criteo_workflow = etl.create_criteo_nvt_workflow(client)\n",
    "\n",
    "    logging.info('Creating dataset.')\n",
    "    # Create dataset to be fitted\n",
    "    dataset = etl.create_parquet_dataset(\n",
    "        data_path=data_path,\n",
    "        part_mem_frac=part_mem_frac\n",
    "    )\n",
    "\n",
    "    logging.info('Starting workflow fitting')\n",
    "    criteo_workflow = etl.analyze_dataset(criteo_workflow, dataset)\n",
    "    logging.info('Finished generating statistics for dataset.')\n",
    "\n",
    "    etl.save_workflow(criteo_workflow, os.path.join('/gcs', workflow_path))\n",
    "    logging.info('Workflow saved to GCS')\n",
    "\n",
    "    workflow['workflow'] = os.path.join('/gcs', workflow_path)\n",
    "    workflow['datasets'] = datasets.metadata"
   ]
  },
  {
   "cell_type": "code",
   "execution_count": 2,
   "metadata": {},
   "outputs": [],
   "source": [
    "datasets = {}\n",
    "datasets['train'] = 'gs://renatoleite-criteo-partial/converted/train'\n",
    "datasets['valid'] = 'gs://renatoleite-criteo-partial/converted/valid'\n",
    "workflow_path = 'renatoleite-criteo-partial/workflow'"
   ]
  },
  {
   "cell_type": "code",
   "execution_count": 3,
   "metadata": {},
   "outputs": [
    {
     "name": "stderr",
     "output_type": "stream",
     "text": [
      "INFO:root:Creating Dask cluster.\n",
      "INFO:numba.cuda.cudadrv.driver:init\n",
      "distributed.diskutils - INFO - Found stale lock file and directory '/home/renatoleite/workspace/merlin-on-vertex/src/preprocessing/dask-worker-space/worker-3a8ay57y', purging\n",
      "distributed.preloading - INFO - Import preload module: dask_cuda.initialize\n",
      "INFO:root:Creating transformation workflow.\n",
      "INFO:root:Creating dataset.\n",
      "INFO:root:Starting workflow fitting\n",
      "/opt/conda/envs/nvt-prod/lib/python3.8/site-packages/numba/cuda/compiler.py:865: NumbaPerformanceWarning: \u001b[1mGrid size (1) < 2 * SM count (80) will likely result in GPU under utilization due to low occupancy.\u001b[0m\n",
      "  warn(NumbaPerformanceWarning(msg))\n",
      "INFO:root:Finished generating statistics for dataset.\n",
      "INFO:root:Workflow saved to GCS\n"
     ]
    },
    {
     "ename": "AttributeError",
     "evalue": "'dict' object has no attribute 'metadata'",
     "output_type": "error",
     "traceback": [
      "\u001b[0;31m---------------------------------------------------------------------------\u001b[0m",
      "\u001b[0;31mAttributeError\u001b[0m                            Traceback (most recent call last)",
      "\u001b[0;32m/tmp/ipykernel_6290/4004743745.py\u001b[0m in \u001b[0;36m<module>\u001b[0;34m\u001b[0m\n\u001b[0;32m----> 1\u001b[0;31m \u001b[0manalyze_dataset_op\u001b[0m\u001b[0;34m(\u001b[0m\u001b[0mdatasets\u001b[0m\u001b[0;34m,\u001b[0m \u001b[0mworkflow_path\u001b[0m\u001b[0;34m)\u001b[0m\u001b[0;34m\u001b[0m\u001b[0;34m\u001b[0m\u001b[0m\n\u001b[0m",
      "\u001b[0;32m/tmp/ipykernel_6290/2053549879.py\u001b[0m in \u001b[0;36manalyze_dataset_op\u001b[0;34m(datasets, workflow_path, split_name, device_limit_frac, device_pool_frac, part_mem_frac)\u001b[0m\n\u001b[1;32m     41\u001b[0m \u001b[0;34m\u001b[0m\u001b[0m\n\u001b[1;32m     42\u001b[0m     \u001b[0mworkflow\u001b[0m\u001b[0;34m[\u001b[0m\u001b[0;34m'workflow'\u001b[0m\u001b[0;34m]\u001b[0m \u001b[0;34m=\u001b[0m \u001b[0mos\u001b[0m\u001b[0;34m.\u001b[0m\u001b[0mpath\u001b[0m\u001b[0;34m.\u001b[0m\u001b[0mjoin\u001b[0m\u001b[0;34m(\u001b[0m\u001b[0;34m'/gcs'\u001b[0m\u001b[0;34m,\u001b[0m \u001b[0mworkflow_path\u001b[0m\u001b[0;34m)\u001b[0m\u001b[0;34m\u001b[0m\u001b[0;34m\u001b[0m\u001b[0m\n\u001b[0;32m---> 43\u001b[0;31m     \u001b[0mworkflow\u001b[0m\u001b[0;34m[\u001b[0m\u001b[0;34m'datasets'\u001b[0m\u001b[0;34m]\u001b[0m \u001b[0;34m=\u001b[0m \u001b[0mdatasets\u001b[0m\u001b[0;34m.\u001b[0m\u001b[0mmetadata\u001b[0m\u001b[0;34m\u001b[0m\u001b[0;34m\u001b[0m\u001b[0m\n\u001b[0m",
      "\u001b[0;31mAttributeError\u001b[0m: 'dict' object has no attribute 'metadata'"
     ]
    }
   ],
   "source": [
    "analyze_dataset_op(datasets, workflow_path)"
   ]
  },
  {
   "cell_type": "code",
   "execution_count": null,
   "metadata": {},
   "outputs": [],
   "source": []
  }
 ],
 "metadata": {
  "interpreter": {
   "hash": "422fa49aeb6e5ea3e75fdcfeec0565d1c875946c77181e2ae78dd7f06d9d8ef5"
  },
  "kernelspec": {
   "display_name": "Python 3.8.12 64-bit ('nvt-prod': conda)",
   "name": "python3"
  },
  "language_info": {
   "codemirror_mode": {
    "name": "ipython",
    "version": 3
   },
   "file_extension": ".py",
   "mimetype": "text/x-python",
   "name": "python",
   "nbconvert_exporter": "python",
   "pygments_lexer": "ipython3",
   "version": "3.8.12"
  },
  "orig_nbformat": 4
 },
 "nbformat": 4,
 "nbformat_minor": 2
}
