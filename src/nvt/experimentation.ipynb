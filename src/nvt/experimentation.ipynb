{
 "cells": [
  {
   "cell_type": "code",
   "execution_count": 1,
   "source": [
    "from nvt_cluster_utils import NvtClusterUtils"
   ],
   "outputs": [],
   "metadata": {}
  },
  {
   "cell_type": "code",
   "execution_count": 2,
   "source": [
    "cluster_utils = NvtClusterUtils('/home/renatoleite/output', '0')"
   ],
   "outputs": [],
   "metadata": {}
  },
  {
   "cell_type": "code",
   "execution_count": 3,
   "source": [
    "cluster_utils.setup_local_dask_dirs()"
   ],
   "outputs": [
    {
     "output_type": "stream",
     "name": "stderr",
     "text": [
      "/home/renatoleite/workspace/merlin-on-vertex/src/io/nvt_cluster_utils.py:90: UserWarning: Path /home/renatoleite/output/dask_workdir                                     already exists!\n",
      "  already exists!')\n",
      "/home/renatoleite/workspace/merlin-on-vertex/src/io/nvt_cluster_utils.py:90: UserWarning: Path /home/renatoleite/output/output_path                                     already exists!\n",
      "  already exists!')\n",
      "/home/renatoleite/workspace/merlin-on-vertex/src/io/nvt_cluster_utils.py:90: UserWarning: Path /home/renatoleite/output/stats_path                                     already exists!\n",
      "  already exists!')\n"
     ]
    }
   ],
   "metadata": {}
  },
  {
   "cell_type": "code",
   "execution_count": null,
   "source": [],
   "outputs": [],
   "metadata": {}
  }
 ],
 "metadata": {
  "orig_nbformat": 4,
  "language_info": {
   "name": "python",
   "version": "3.7.10",
   "mimetype": "text/x-python",
   "codemirror_mode": {
    "name": "ipython",
    "version": 3
   },
   "pygments_lexer": "ipython3",
   "nbconvert_exporter": "python",
   "file_extension": ".py"
  },
  "kernelspec": {
   "name": "python3",
   "display_name": "Python 3.7.10 64-bit ('base': conda)"
  },
  "interpreter": {
   "hash": "98b0a9b7b4eaaa670588a142fd0a9b87eaafe866f1db4228be72b4211d12040f"
  }
 },
 "nbformat": 4,
 "nbformat_minor": 2
}